{
 "cells": [
  {
   "cell_type": "markdown",
   "metadata": {},
   "source": [
    "### Libraries "
   ]
  },
  {
   "cell_type": "code",
   "execution_count": 101,
   "metadata": {},
   "outputs": [],
   "source": [
    "import pandas as pd\n",
    "import chardet\n",
    "import yfinance as yf\n",
    "import os\n",
    "import numpy as np\n",
    "import sys\n",
    "import datetime"
   ]
  },
  {
   "cell_type": "markdown",
   "metadata": {},
   "source": [
    "### Functions "
   ]
  },
  {
   "cell_type": "code",
   "execution_count": 102,
   "metadata": {},
   "outputs": [],
   "source": [
    "def remove_weekends(df): \n",
    "    \"\"\"Remove weekends from a DataFrame.\"\"\" \n",
    "    if not isinstance(df.index, pd.DatetimeIndex): \n",
    "        df.index = pd.to_datetime(df.index) \n",
    "\n",
    "    return df[df.index.weekday < 5]\n",
    "\n",
    "def get_latest_entry_per_month(df):\n",
    "    \"\"\"\n",
    "    Get the latest entry for each month in a DataFrame.\n",
    "    \"\"\"\n",
    "    # Ensure the index is a DatetimeIndex\n",
    "    if not isinstance(df.index, pd.DatetimeIndex):\n",
    "        df = df.copy()\n",
    "        df.index = pd.to_datetime(df.index)\n",
    "    \n",
    "    # sort the DataFrame by index to ensure chronological order\n",
    "    df_sorted = df.sort_index()\n",
    "    # Group by year and month, then get the last entry for each group\n",
    "    latest_entries = df_sorted.groupby([df_sorted.index.year, df_sorted.index.month]).tail(1)\n",
    "\n",
    "    return latest_entries\n",
    "\n",
    "\n",
    "# define the risk-free rate for some KPIs (Take the Euribor 3M as the rfrate)\n",
    "risk_free_rate = 0.02\n",
    "\n",
    "# define a start date \n",
    "start_date_benchmark = datetime.datetime(2019, 9, 1)\n",
    "start_date = datetime.datetime(2020, 1, 1)\n",
    "current_date = datetime.datetime.now()"
   ]
  },
  {
   "cell_type": "markdown",
   "metadata": {},
   "source": [
    "#### Decryption Code (Portfolio Wikifolio)"
   ]
  },
  {
   "cell_type": "code",
   "execution_count": 103,
   "metadata": {},
   "outputs": [
    {
     "name": "stdout",
     "output_type": "stream",
     "text": [
      "               Open    Close     High      Low\n",
      "DateTime                                      \n",
      "2019-09-01  100.000  100.000  100.000  100.000\n",
      "2019-09-02   99.997   99.997   99.997   99.997\n",
      "2019-09-03   99.995   99.811   99.995   99.634\n",
      "2019-09-04   99.967  100.321  100.702   99.967\n",
      "2019-09-05  100.714  100.972  101.067  100.647\n"
     ]
    }
   ],
   "source": [
    "\n",
    "# Define the file path\n",
    "file_path = r\"C:\\Users\\Sebastian Kaiser\\Desktop\\FNI\\IG\\project_Dashboard\\Triple_Three_Dashboard\\Portfolio_Price_Data_Wikifolio\\WFIRM20FNI-PriceData-20250812175244.csv\"\n",
    "\n",
    "# Encoding erkennen\n",
    "with open(file_path, 'rb') as f:\n",
    "    encoding = chardet.detect(f.read(10000))['encoding']\n",
    "\n",
    "# Header-Zeile finden\n",
    "with open(file_path, 'r', encoding=encoding) as f:\n",
    "    lines = [line.strip() for line in f if line.strip()]\n",
    "    header_index = next(i for i, line in enumerate(lines) if 'Begin date' in line)\n",
    "\n",
    "# Datei einlesen\n",
    "data_raw = pd.read_csv(\n",
    "    file_path,\n",
    "    sep=';',\n",
    "    encoding=encoding,\n",
    "    skiprows=header_index,\n",
    "    header=0,\n",
    "    engine='python'\n",
    ")\n",
    "\n",
    "# Spalten setzen (DateTime ist bereits kombiniert)\n",
    "data_raw.columns = ['DateTime', 'Interval', 'Open', 'Close', 'High', 'Low']\n",
    "\n",
    "# Datum konvertieren\n",
    "data_raw['DateTime'] = pd.to_datetime(data_raw['DateTime'], dayfirst=True, errors='coerce')\n",
    "\n",
    "# Zahlen bereinigen\n",
    "for col in ['Open', 'Close', 'High', 'Low']:\n",
    "    data_raw[col] = (\n",
    "        data_raw[col]\n",
    "        .astype(str)\n",
    "        .str.replace(r'\\s+', '', regex=True)\n",
    "        .str.replace('.', '', regex=False)\n",
    "        .str.replace(',', '.', regex=False)\n",
    "        .astype(float)\n",
    "    )\n",
    "\n",
    "# Index setzen und Interval ggf. löschen\n",
    "data_raw.set_index('DateTime', inplace=True)\n",
    "data_raw.drop(columns=['Interval'], inplace=True)\n",
    "\n",
    "# Ausgabe\n",
    "print(data_raw.head())\n"
   ]
  },
  {
   "cell_type": "code",
   "execution_count": 104,
   "metadata": {},
   "outputs": [
    {
     "name": "stderr",
     "output_type": "stream",
     "text": [
      "[*********************100%***********************]  1 of 1 completed\n"
     ]
    }
   ],
   "source": [
    "# Import the benchmark (MSCI World Growth Index via Yahoo Finance)\n",
    "ticker = \"^105867-USD-STRD\"\n",
    "\n",
    "benchmark = yf.download(\n",
    "    ticker,\n",
    "    start=start_date_benchmark,\n",
    "    end=current_date,\n",
    "    interval='1d',\n",
    "    group_by='ticker'\n",
    ")\n",
    "\n",
    "# Falls MultiIndex → nur \"Close\"\n",
    "if isinstance(benchmark.columns, pd.MultiIndex):\n",
    "    benchmark = benchmark.xs('Close', axis=1, level=1)\n",
    "else:\n",
    "    benchmark = benchmark[['Close']]\n",
    "\n",
    "benchmark.columns = ['Close']\n"
   ]
  },
  {
   "cell_type": "markdown",
   "metadata": {},
   "source": [
    "### Adjustments"
   ]
  },
  {
   "cell_type": "code",
   "execution_count": 105,
   "metadata": {},
   "outputs": [],
   "source": [
    "# leave only the Close column for further calculations\n",
    "Close = 'Close'\n",
    "# Adjust the data to only include the Close prices  \n",
    "data_adjusted = data_raw[Close]"
   ]
  },
  {
   "cell_type": "markdown",
   "metadata": {},
   "source": [
    "## Calculations & KPIs"
   ]
  },
  {
   "cell_type": "markdown",
   "metadata": {},
   "source": [
    "#### Total Return "
   ]
  },
  {
   "cell_type": "code",
   "execution_count": 106,
   "metadata": {},
   "outputs": [],
   "source": [
    "# Total return \n",
    "total_return = (data_adjusted.iloc[-1]/ data_adjusted.iloc[0]) - 1"
   ]
  },
  {
   "cell_type": "markdown",
   "metadata": {},
   "source": [
    "#### CAGR"
   ]
  },
  {
   "attachments": {
    "image.png": {
     "image/png": "[encoded data removed]"
    }
   },
   "cell_type": "markdown",
   "metadata": {},
   "source": [
    "![image.png](attachment:image.png)"
   ]
  },
  {
   "cell_type": "code",
   "execution_count": 107,
   "metadata": {},
   "outputs": [],
   "source": [
    "# CAGR\n",
    "days = (data_adjusted.index[-1] - data_adjusted.index[0]).days\n",
    "total_return = (data_adjusted.iloc[-1] / data_adjusted.iloc[0]) - 1\n",
    "cagr = (1 + total_return) ** (365 / days) - 1"
   ]
  },
  {
   "cell_type": "markdown",
   "metadata": {},
   "source": [
    "#### Annualized Vola"
   ]
  },
  {
   "attachments": {
    "Different-Types-of-Investments.005.jpeg": {
     "image/jpeg": "[encoded data removed]"
    }
   },
   "cell_type": "markdown",
   "metadata": {},
   "source": [
    "![Different-Types-of-Investments.005.jpeg](attachment:Different-Types-of-Investments.005.jpeg)"
   ]
  },
  {
   "cell_type": "code",
   "execution_count": 108,
   "metadata": {},
   "outputs": [],
   "source": [
    "# annualized volatility\n",
    "annual_volatility = data_adjusted.pct_change().std() * np.sqrt(252)"
   ]
  },
  {
   "cell_type": "markdown",
   "metadata": {},
   "source": [
    "#### Downside Risk"
   ]
  },
  {
   "attachments": {
    "image.png": {
     "image/png": "[encoded data removed]"
    }
   },
   "cell_type": "markdown",
   "metadata": {},
   "source": [
    "![image.png](attachment:image.png)"
   ]
  },
  {
   "cell_type": "code",
   "execution_count": 109,
   "metadata": {},
   "outputs": [],
   "source": [
    "# Downside risk\n",
    "downside_returns = data_adjusted.pct_change()[data_adjusted.pct_change() < 0]\n",
    "downside_risk = downside_returns.std() * np.sqrt(252)"
   ]
  },
  {
   "cell_type": "markdown",
   "metadata": {},
   "source": [
    "#### Sharpe Ratio"
   ]
  },
  {
   "attachments": {
    "image.png": {
     "image/png": "[encoded data removed]"
    }
   },
   "cell_type": "markdown",
   "metadata": {},
   "source": [
    "![image.png](attachment:image.png)"
   ]
  },
  {
   "cell_type": "code",
   "execution_count": 110,
   "metadata": {},
   "outputs": [],
   "source": [
    "# sharpe ratio\n",
    "sharpe_ratio = (data_adjusted.pct_change().mean() - risk_free_rate / 252) / annual_volatility"
   ]
  },
  {
   "cell_type": "markdown",
   "metadata": {},
   "source": [
    "#### Sortino Ratio"
   ]
  },
  {
   "attachments": {
    "image.png": {
     "image/png": "[encoded data removed]"
    }
   },
   "cell_type": "markdown",
   "metadata": {},
   "source": [
    "![image.png](attachment:image.png)"
   ]
  },
  {
   "cell_type": "code",
   "execution_count": 111,
   "metadata": {},
   "outputs": [],
   "source": [
    "# Sortino ratio\n",
    "downside_returns = data_adjusted.pct_change()[data_adjusted.pct_change() < 0]\n",
    "sortino_ratio = (data_adjusted.pct_change().mean() - risk_free_rate / 252) / downside_returns.std()"
   ]
  },
  {
   "cell_type": "markdown",
   "metadata": {},
   "source": [
    "#### Max Drawdown"
   ]
  },
  {
   "attachments": {
    "image.png": {
     "image/png": "[encoded data removed]"
    }
   },
   "cell_type": "markdown",
   "metadata": {},
   "source": [
    "![image.png](attachment:image.png)"
   ]
  },
  {
   "cell_type": "code",
   "execution_count": 112,
   "metadata": {},
   "outputs": [],
   "source": [
    "# Max Drawdown\n",
    "rolling_max = data_adjusted.cummax()\n",
    "drawdown = (data_adjusted - rolling_max) / rolling_max\n",
    "max_drawdown = drawdown.min()"
   ]
  },
  {
   "cell_type": "markdown",
   "metadata": {},
   "source": [
    "#### Beta"
   ]
  },
  {
   "attachments": {
    "image.png": {
     "image/png": "[encoded data removed]"
    }
   },
   "cell_type": "markdown",
   "metadata": {},
   "source": [
    "![image.png](attachment:image.png)"
   ]
  },
  {
   "cell_type": "code",
   "execution_count": 113,
   "metadata": {},
   "outputs": [],
   "source": [
    "# Daily Returns als Series\n",
    "portfolio_daily_returns_series = portfolio_daily_returns.dropna()\n",
    "benchmark_daily_returns_series = benchmark_daily_returns.dropna()# Series\n",
    "\n",
    "# Nur gemeinsame Handelstage\n",
    "common_dates = portfolio_daily_returns_series.index.intersection(benchmark_daily_returns_series.index)\n",
    "portfolio_daily_returns_series = portfolio_daily_returns_series.loc[common_dates]\n",
    "benchmark_daily_returns_series = benchmark_daily_returns_series.loc[common_dates]\n",
    "\n",
    "# Beta berechnen\n",
    "cov_matrix = np.cov(portfolio_daily_returns_series, benchmark_daily_returns_series)\n",
    "beta = cov_matrix[0, 1] / cov_matrix[1, 1]"
   ]
  },
  {
   "cell_type": "markdown",
   "metadata": {},
   "source": [
    "#### Jensen's Alpha (annual)"
   ]
  },
  {
   "attachments": {
    "image.png": {
     "image/png": "[encoded data removed]"
    }
   },
   "cell_type": "markdown",
   "metadata": {},
   "source": [
    "![image.png](attachment:image.png)"
   ]
  },
  {
   "cell_type": "code",
   "execution_count": 158,
   "metadata": {},
   "outputs": [],
   "source": [
    "# Länge des Zeitraums in Jahren\n",
    "years = (common_dates[-1] - common_dates[0]).days / 365.25\n",
    "\n",
    "# Annualisierte Total Returns\n",
    "portfolio_annual_return = (1 + portfolio_total_return) ** (1 / years) - 1\n",
    "benchmark_annual_return = (1 + benchmark_total_return) ** (1 / years) - 1\n",
    "\n",
    "# Annualisierte erwartete Rendite\n",
    "expected_annual_return = risk_free_rate + beta * (benchmark_annual_return - risk_free_rate)\n",
    "\n",
    "# Annualisiertes Jensen's Alpha\n",
    "jensens_alpha_annualized = portfolio_annual_return - expected_annual_return\n",
    "\n",
    "jensens_alpha_annualized = jensens_alpha_annualized.item()\n",
    "\n",
    "# ouput only the number\n"
   ]
  },
  {
   "cell_type": "code",
   "execution_count": 159,
   "metadata": {},
   "outputs": [
    {
     "data": {
      "text/plain": [
       "-0.045852099996799095"
      ]
     },
     "execution_count": 159,
     "metadata": {},
     "output_type": "execute_result"
    }
   ],
   "source": [
    "jensens_alpha_annualized \n"
   ]
  },
  {
   "cell_type": "markdown",
   "metadata": {},
   "source": [
    "#### Export KPIs to list "
   ]
  },
  {
   "cell_type": "code",
   "execution_count": 160,
   "metadata": {},
   "outputs": [],
   "source": [
    "kpis = pd.DataFrame({\n",
    "    'Total Return': [total_return],\n",
    "    'CAGR': [cagr],\n",
    "    'Annualized Volatility': [annual_volatility],\n",
    "    'Downside Risk': [downside_risk],\n",
    "    'Sharpe Ratio': [sharpe_ratio],\n",
    "    'Sortino Ratio': [sortino_ratio],\n",
    "    'Max Drawdown': [max_drawdown],\n",
    "    'Beta': [beta],\n",
    "    'Jensen/s Alpha': [jensens_alpha_annualized],\n",
    "})\n"
   ]
  },
  {
   "cell_type": "code",
   "execution_count": 116,
   "metadata": {},
   "outputs": [
    {
     "data": {
      "application/vnd.microsoft.datawrangler.viewer.v0+json": {
       "columns": [
        {
         "name": "index",
         "rawType": "int64",
         "type": "integer"
        },
        {
         "name": "Total Return",
         "rawType": "float64",
         "type": "float"
        },
        {
         "name": "CAGR",
         "rawType": "float64",
         "type": "float"
        },
        {
         "name": "Annualized Volatility",
         "rawType": "float64",
         "type": "float"
        },
        {
         "name": "Downside Risk",
         "rawType": "float64",
         "type": "float"
        },
        {
         "name": "Sharpe Ratio",
         "rawType": "float64",
         "type": "float"
        },
        {
         "name": "Sortino Ratio",
         "rawType": "float64",
         "type": "float"
        },
        {
         "name": "Max Drawdown",
         "rawType": "float64",
         "type": "float"
        },
        {
         "name": "Beta",
         "rawType": "float64",
         "type": "float"
        },
        {
         "name": "Jensen/s Alpha",
         "rawType": "object",
         "type": "unknown"
        }
       ],
       "ref": "b61281ee-c29a-4f85-a23f-942e6662962d",
       "rows": [
        [
         "0",
         "0.5325499999999999",
         "0.0743815448796703",
         "0.16621485878201453",
         "0.13906376096027612",
         "0.0011540276654509831",
         "0.0218963821956139",
         "-0.32493583119437314",
         "0.7375063293115423",
         "Close   -0.045852\ndtype: float64"
        ]
       ],
       "shape": {
        "columns": 9,
        "rows": 1
       }
      },
      "text/html": [
       "<div>\n",
       "<style scoped>\n",
       "    .dataframe tbody tr th:only-of-type {\n",
       "        vertical-align: middle;\n",
       "    }\n",
       "\n",
       "    .dataframe tbody tr th {\n",
       "        vertical-align: top;\n",
       "    }\n",
       "\n",
       "    .dataframe thead th {\n",
       "        text-align: right;\n",
       "    }\n",
       "</style>\n",
       "<table border=\"1\" class=\"dataframe\">\n",
       "  <thead>\n",
       "    <tr style=\"text-align: right;\">\n",
       "      <th></th>\n",
       "      <th>Total Return</th>\n",
       "      <th>CAGR</th>\n",
       "      <th>Annualized Volatility</th>\n",
       "      <th>Downside Risk</th>\n",
       "      <th>Sharpe Ratio</th>\n",
       "      <th>Sortino Ratio</th>\n",
       "      <th>Max Drawdown</th>\n",
       "      <th>Beta</th>\n",
       "      <th>Jensen/s Alpha</th>\n",
       "    </tr>\n",
       "  </thead>\n",
       "  <tbody>\n",
       "    <tr>\n",
       "      <th>0</th>\n",
       "      <td>0.53255</td>\n",
       "      <td>0.074382</td>\n",
       "      <td>0.166215</td>\n",
       "      <td>0.139064</td>\n",
       "      <td>0.001154</td>\n",
       "      <td>0.021896</td>\n",
       "      <td>-0.324936</td>\n",
       "      <td>0.737506</td>\n",
       "      <td>Close   -0.045852\n",
       "dtype: float64</td>\n",
       "    </tr>\n",
       "  </tbody>\n",
       "</table>\n",
       "</div>"
      ],
      "text/plain": [
       "   Total Return      CAGR  Annualized Volatility  Downside Risk  Sharpe Ratio  \\\n",
       "0       0.53255  0.074382               0.166215       0.139064      0.001154   \n",
       "\n",
       "   Sortino Ratio  Max Drawdown      Beta                    Jensen/s Alpha  \n",
       "0       0.021896     -0.324936  0.737506  Close   -0.045852\n",
       "dtype: float64  "
      ]
     },
     "execution_count": 116,
     "metadata": {},
     "output_type": "execute_result"
    }
   ],
   "source": [
    "kpis"
   ]
  },
  {
   "cell_type": "markdown",
   "metadata": {},
   "source": [
    "#### Performance History (Portfolio)"
   ]
  },
  {
   "cell_type": "code",
   "execution_count": 117,
   "metadata": {},
   "outputs": [],
   "source": [
    "# remove the weejends from the data\n",
    "data_adjusted = remove_weekends(data_adjusted)\n",
    "\n",
    "# calculate the percentage change of the Portfolio\n",
    "data_pct_change = data_adjusted.pct_change() + 1\n",
    "data_cumprod = data_pct_change.cumprod()\n",
    "\n",
    "data_cumprod.iloc[0] = 1\n",
    "\n",
    "data_final = data_cumprod - 1\n",
    "\n",
    "# melt the DataFrame to have a long format\n",
    "data_final_melted = data_final.reset_index().melt(id_vars='DateTime', var_name='Portfolio', value_name='Cumulative Return')\n",
    "\n",
    "# drop the 'Portfolio' column as it is not needed\n",
    "data_final_melted.drop(columns=['Portfolio'], inplace=True)"
   ]
  },
  {
   "cell_type": "markdown",
   "metadata": {},
   "source": [
    "#### Performance History (Benchmark)"
   ]
  },
  {
   "cell_type": "code",
   "execution_count": 118,
   "metadata": {},
   "outputs": [],
   "source": [
    "# 1. NaNs entfernen\n",
    "benchmark = benchmark.dropna(subset=['Close'])\n",
    "\n",
    "# 2. Prozentänderung\n",
    "benchmark_pct_change = benchmark['Close'].pct_change()\n",
    "\n",
    "# 3. YTD oder gesamte Cumulative Return\n",
    "benchmark_cumprod = (1 + benchmark_pct_change).cumprod()\n",
    "\n",
    "# 4. Ersten Wert auf 1 setzen\n",
    "benchmark_cumprod.iloc[0] = 1\n",
    "\n",
    "# 5. In Prozent-Format\n",
    "benchmark_final = benchmark_cumprod - 1\n",
    "\n",
    "# 6. Prepare the benchmark DataFrame\n",
    "benchmark_final = benchmark_final.reset_index().rename(columns={'Date': 'DateTime', 'Close': 'Cumulative Return_bm'})\n",
    "\n",
    "# 7. Merge the data with the benchmark\n",
    "merged_data = pd.merge(data_final_melted, benchmark_final, on='DateTime', how='outer')\n"
   ]
  },
  {
   "cell_type": "code",
   "execution_count": 119,
   "metadata": {},
   "outputs": [
    {
     "data": {
      "application/vnd.microsoft.datawrangler.viewer.v0+json": {
       "columns": [
        {
         "name": "index",
         "rawType": "int64",
         "type": "integer"
        },
        {
         "name": "DateTime",
         "rawType": "datetime64[ns]",
         "type": "datetime"
        },
        {
         "name": "Cumulative Return",
         "rawType": "float64",
         "type": "float"
        },
        {
         "name": "Cumulative Return_bm",
         "rawType": "float64",
         "type": "float"
        }
       ],
       "ref": "ac214593-8730-403b-90e0-72300cb810d6",
       "rows": [
        [
         "0",
         "2019-09-02 00:00:00",
         "0.0",
         null
        ],
        [
         "1",
         "2019-09-03 00:00:00",
         "-0.001860055801674032",
         "0.0"
        ],
        [
         "2",
         "2019-09-04 00:00:00",
         "0.00324009720291607",
         "0.010505592967781308"
        ],
        [
         "3",
         "2019-09-05 00:00:00",
         "0.009750292508775349",
         "0.023222993412489012"
        ],
        [
         "4",
         "2019-09-06 00:00:00",
         "0.010090302709081511",
         "0.024686576277312744"
        ],
        [
         "5",
         "2019-09-09 00:00:00",
         "0.007970239107173427",
         "0.018681883462695836"
        ],
        [
         "6",
         "2019-09-10 00:00:00",
         "0.007240217206516464",
         "0.012853164479650792"
        ],
        [
         "7",
         "2019-09-11 00:00:00",
         "0.014490434713041678",
         "0.019217417056995867"
        ],
        [
         "8",
         "2019-09-12 00:00:00",
         "0.019220576617298812",
         "0.024169401276128433"
        ],
        [
         "9",
         "2019-09-13 00:00:00",
         "0.013560406812204606",
         "0.024279463280709512"
        ],
        [
         "10",
         "2019-09-16 00:00:00",
         "0.009890296708901625",
         "0.018905589636368347"
        ],
        [
         "11",
         "2019-09-17 00:00:00",
         "0.010300309009270592",
         "0.02413635580852036"
        ],
        [
         "12",
         "2019-09-18 00:00:00",
         "0.010940328209846584",
         "0.02379524419302048"
        ],
        [
         "13",
         "2019-09-19 00:00:00",
         "0.008560256807704558",
         "0.026194219765613758"
        ],
        [
         "14",
         "2019-09-20 00:00:00",
         "0.007060211806354522",
         "0.02005743463467713"
        ],
        [
         "15",
         "2019-09-23 00:00:00",
         "0.006230186905607615",
         "0.018344354011706532"
        ],
        [
         "16",
         "2019-09-24 00:00:00",
         "-0.00023000690020658077",
         "0.012567039089385279"
        ],
        [
         "17",
         "2019-09-25 00:00:00",
         "0.0038401152034563957",
         "0.014467198253909963"
        ],
        [
         "18",
         "2019-09-26 00:00:00",
         "0.003450103503105373",
         "0.0141516991146593"
        ],
        [
         "19",
         "2019-09-27 00:00:00",
         "0.0009400282008462657",
         "0.00743899148456828"
        ],
        [
         "20",
         "2019-09-30 00:00:00",
         "0.008930267908037637",
         "0.01094207971336969"
        ],
        [
         "21",
         "2019-10-01 00:00:00",
         "0.000640019200576436",
         "0.0019918625759902664"
        ],
        [
         "22",
         "2019-10-02 00:00:00",
         "-0.017780533416002164",
         "-0.014921954038500718"
        ],
        [
         "23",
         "2019-10-03 00:00:00",
         "-0.010630318909567005",
         "-0.008139573308682979"
        ],
        [
         "24",
         "2019-10-04 00:00:00",
         "-0.0032000960028796266",
         "0.003154633176055688"
        ],
        [
         "25",
         "2019-10-07 00:00:00",
         "-0.0036601098032936763",
         "0.002971226353124745"
        ],
        [
         "26",
         "2019-10-08 00:00:00",
         "-0.01057031710951295",
         "-0.009738920208449575"
        ],
        [
         "27",
         "2019-10-09 00:00:00",
         "-0.001620048601457702",
         "-0.001672602164003223"
        ],
        [
         "28",
         "2019-10-10 00:00:00",
         "0.0017100513015395613",
         "0.003176663487794329"
        ],
        [
         "29",
         "2019-10-11 00:00:00",
         "0.013670410112303744",
         "0.015248468333621146"
        ],
        [
         "30",
         "2019-10-14 00:00:00",
         "0.015390461713851611",
         "0.014162714270528731"
        ],
        [
         "31",
         "2019-10-15 00:00:00",
         "0.021320639619188952",
         "0.024451854947771023"
        ],
        [
         "32",
         "2019-10-16 00:00:00",
         "0.024160724821745028",
         "0.02287453835974329"
        ],
        [
         "33",
         "2019-10-17 00:00:00",
         "0.024300729021871303",
         "0.02635559627680606"
        ],
        [
         "34",
         "2019-10-18 00:00:00",
         "0.020990629718892206",
         "0.020592968228977382"
        ],
        [
         "35",
         "2019-10-21 00:00:00",
         "0.02820084602538131",
         "0.025816390963883107"
        ],
        [
         "36",
         "2019-10-22 00:00:00",
         "0.023720711621349366",
         "0.02001337401120007"
        ],
        [
         "37",
         "2019-10-23 00:00:00",
         "0.031030930927928635",
         "0.020989066069711626"
        ],
        [
         "38",
         "2019-10-24 00:00:00",
         "0.03463103893116881",
         "0.028086945938780028"
        ],
        [
         "39",
         "2019-10-25 00:00:00",
         "0.03802114063422013",
         "0.032110880887389115"
        ],
        [
         "40",
         "2019-10-28 00:00:00",
         "0.04093122793683923",
         "0.03782953786585308"
        ],
        [
         "41",
         "2019-10-29 00:00:00",
         "0.03532105963179011",
         "0.03654569010533737"
        ],
        [
         "42",
         "2019-10-30 00:00:00",
         "0.03701111033331106",
         "0.041398627475758065"
        ],
        [
         "43",
         "2019-10-31 00:00:00",
         "0.04219126573797327",
         "0.04088870635770725"
        ],
        [
         "44",
         "2019-11-01 00:00:00",
         "0.048891466744003464",
         "0.04983534133057632"
        ],
        [
         "45",
         "2019-11-04 00:00:00",
         "0.05981179435383188",
         "0.05291286841554599"
        ],
        [
         "46",
         "2019-11-05 00:00:00",
         "0.05990179705391285",
         "0.04989767099305675"
        ],
        [
         "47",
         "2019-11-06 00:00:00",
         "0.06219186575597391",
         "0.050583655496792224"
        ],
        [
         "48",
         "2019-11-07 00:00:00",
         "0.064151924557738",
         "0.05319899380581172"
        ],
        [
         "49",
         "2019-11-08 00:00:00",
         "0.06418192545776491",
         "0.05424077679953965"
        ]
       ],
       "shape": {
        "columns": 3,
        "rows": 1539
       }
      },
      "text/html": [
       "<div>\n",
       "<style scoped>\n",
       "    .dataframe tbody tr th:only-of-type {\n",
       "        vertical-align: middle;\n",
       "    }\n",
       "\n",
       "    .dataframe tbody tr th {\n",
       "        vertical-align: top;\n",
       "    }\n",
       "\n",
       "    .dataframe thead th {\n",
       "        text-align: right;\n",
       "    }\n",
       "</style>\n",
       "<table border=\"1\" class=\"dataframe\">\n",
       "  <thead>\n",
       "    <tr style=\"text-align: right;\">\n",
       "      <th></th>\n",
       "      <th>DateTime</th>\n",
       "      <th>Cumulative Return</th>\n",
       "      <th>Cumulative Return_bm</th>\n",
       "    </tr>\n",
       "  </thead>\n",
       "  <tbody>\n",
       "    <tr>\n",
       "      <th>0</th>\n",
       "      <td>2019-09-02</td>\n",
       "      <td>0.000000</td>\n",
       "      <td>NaN</td>\n",
       "    </tr>\n",
       "    <tr>\n",
       "      <th>1</th>\n",
       "      <td>2019-09-03</td>\n",
       "      <td>-0.001860</td>\n",
       "      <td>0.000000</td>\n",
       "    </tr>\n",
       "    <tr>\n",
       "      <th>2</th>\n",
       "      <td>2019-09-04</td>\n",
       "      <td>0.003240</td>\n",
       "      <td>0.010506</td>\n",
       "    </tr>\n",
       "    <tr>\n",
       "      <th>3</th>\n",
       "      <td>2019-09-05</td>\n",
       "      <td>0.009750</td>\n",
       "      <td>0.023223</td>\n",
       "    </tr>\n",
       "    <tr>\n",
       "      <th>4</th>\n",
       "      <td>2019-09-06</td>\n",
       "      <td>0.010090</td>\n",
       "      <td>0.024687</td>\n",
       "    </tr>\n",
       "    <tr>\n",
       "      <th>...</th>\n",
       "      <td>...</td>\n",
       "      <td>...</td>\n",
       "      <td>...</td>\n",
       "    </tr>\n",
       "    <tr>\n",
       "      <th>1534</th>\n",
       "      <td>2025-08-11</td>\n",
       "      <td>0.524266</td>\n",
       "      <td>1.359378</td>\n",
       "    </tr>\n",
       "    <tr>\n",
       "      <th>1535</th>\n",
       "      <td>2025-08-12</td>\n",
       "      <td>0.532596</td>\n",
       "      <td>1.381948</td>\n",
       "    </tr>\n",
       "    <tr>\n",
       "      <th>1536</th>\n",
       "      <td>2025-08-13</td>\n",
       "      <td>NaN</td>\n",
       "      <td>1.387520</td>\n",
       "    </tr>\n",
       "    <tr>\n",
       "      <th>1537</th>\n",
       "      <td>2025-08-14</td>\n",
       "      <td>NaN</td>\n",
       "      <td>1.387876</td>\n",
       "    </tr>\n",
       "    <tr>\n",
       "      <th>1538</th>\n",
       "      <td>2025-08-15</td>\n",
       "      <td>NaN</td>\n",
       "      <td>1.391394</td>\n",
       "    </tr>\n",
       "  </tbody>\n",
       "</table>\n",
       "<p>1539 rows × 3 columns</p>\n",
       "</div>"
      ],
      "text/plain": [
       "       DateTime  Cumulative Return  Cumulative Return_bm\n",
       "0    2019-09-02           0.000000                   NaN\n",
       "1    2019-09-03          -0.001860              0.000000\n",
       "2    2019-09-04           0.003240              0.010506\n",
       "3    2019-09-05           0.009750              0.023223\n",
       "4    2019-09-06           0.010090              0.024687\n",
       "...         ...                ...                   ...\n",
       "1534 2025-08-11           0.524266              1.359378\n",
       "1535 2025-08-12           0.532596              1.381948\n",
       "1536 2025-08-13                NaN              1.387520\n",
       "1537 2025-08-14                NaN              1.387876\n",
       "1538 2025-08-15                NaN              1.391394\n",
       "\n",
       "[1539 rows x 3 columns]"
      ]
     },
     "execution_count": 119,
     "metadata": {},
     "output_type": "execute_result"
    }
   ],
   "source": [
    "merged_data"
   ]
  },
  {
   "cell_type": "markdown",
   "metadata": {},
   "source": [
    "### EOM Performance 2025"
   ]
  },
  {
   "cell_type": "markdown",
   "metadata": {},
   "source": [
    "##### Portfolio"
   ]
  },
  {
   "cell_type": "code",
   "execution_count": 144,
   "metadata": {},
   "outputs": [],
   "source": [
    "# 1. Series in DataFrame konvertieren (optional)\n",
    "if isinstance(data_pct_change, pd.Series):\n",
    "    data_pct_change = data_pct_change.to_frame(name='Close')\n",
    "\n",
    "# 2. Sicherstellen, dass der Index DatetimeIndex ist\n",
    "if not isinstance(data_pct_change.index, pd.DatetimeIndex):\n",
    "    data_pct_change.index = pd.to_datetime(data_pct_change.index)\n",
    "\n",
    "# 3. Nur Daten ab 2025\n",
    "data_2025 = data_pct_change[data_pct_change.index.year == 2025].copy()\n",
    "\n",
    "if data_2025.empty:\n",
    "    raise ValueError(\"Keine Daten für 2025 vorhanden!\")\n",
    "\n",
    "# 4. YTD Performance berechnen: kumuliert ab Jahresbeginn\n",
    "# Da Close schon daily pct_change + 1 ist, cumprod() startet bei 1\n",
    "data_2025['YTD_Performance'] = data_2025['Close'].cumprod() - 1\n",
    "data_2025['YTD_Performance'] *= 100  # in Prozent\n",
    "\n",
    "# 5. Letzten Eintrag jedes Monats speichern\n",
    "monthly_last = data_2025.resample('ME').last()\n",
    "\n",
    "monthly_last['Portfolio'] = 'FNI Triple Three Growth'\n",
    "\n",
    "# 7. drop the Close column as it is not needed\n",
    "monthly_last.drop(columns=['Close'], inplace=True)\n"
   ]
  },
  {
   "cell_type": "markdown",
   "metadata": {},
   "source": [
    "##### Benchmark"
   ]
  },
  {
   "cell_type": "code",
   "execution_count": 145,
   "metadata": {},
   "outputs": [],
   "source": [
    "# Falls Series, in DataFrame konvertieren\n",
    "if isinstance(benchmark_pct_change, pd.Series):\n",
    "    benchmark_pct_change = benchmark_pct_change.to_frame(name='Close')\n",
    "\n",
    "# Sicherstellen, dass Index ein DatetimeIndex ist\n",
    "if not isinstance(benchmark_pct_change.index, pd.DatetimeIndex):\n",
    "    benchmark_pct_change.index = pd.to_datetime(benchmark_pct_change.index)\n",
    "\n",
    "# Nur Daten ab 2025\n",
    "benchmark_2025 = benchmark_pct_change[benchmark_pct_change.index.year == 2025].copy()\n",
    "if benchmark_2025.empty:\n",
    "    raise ValueError(\"Keine Benchmark-Daten für 2025 vorhanden!\")\n",
    "\n",
    "# YTD Performance berechnen\n",
    "benchmark_2025['YTD_Performance_bm'] = (benchmark_2025['Close'] + 1).cumprod() - 1\n",
    "benchmark_2025['YTD_Performance_bm'] *= 100  # in Prozent\n",
    "\n",
    "# Monatsendwerte\n",
    "benchmark_monthly_last = benchmark_2025.resample('ME').last().reset_index()\n",
    "\n",
    "benchmark_monthly_last['Portfolio'] = 'MSCI World Growth Index'\n",
    "\n",
    "#drop the 'Close' column as it is not needed\n",
    "benchmark_monthly_last.drop(columns=['Close'], inplace=True)\n"
   ]
  },
  {
   "cell_type": "code",
   "execution_count": 147,
   "metadata": {},
   "outputs": [
    {
     "name": "stdout",
     "output_type": "stream",
     "text": [
      "Index(['YTD_Performance', 'Portfolio'], dtype='object')\n",
      "Index(['Date', 'YTD_Performance_bm', 'Portfolio'], dtype='object')\n"
     ]
    }
   ],
   "source": [
    "print(monthly_last.columns)\n",
    "print(benchmark_monthly_last.columns)\n"
   ]
  },
  {
   "cell_type": "markdown",
   "metadata": {},
   "source": [
    "##### Merge"
   ]
  },
  {
   "cell_type": "code",
   "execution_count": 153,
   "metadata": {},
   "outputs": [],
   "source": [
    "# Benchmark: 'Date' → 'DateTime'\n",
    "benchmark_monthly_last = benchmark_monthly_last.rename(columns={'Date':'DateTime'})\n",
    "\n",
    "# Merge\n",
    "monthly_merged = pd.merge(\n",
    "    monthly_last,\n",
    "    benchmark_monthly_last,\n",
    "    on='DateTime',\n",
    "    how='outer',\n",
    "    suffixes=('_portfolio', '_benchmark')\n",
    ")\n",
    "\n",
    "\n",
    "monthly_long = monthly_merged.melt(\n",
    "    id_vars=['DateTime'], \n",
    "    value_vars=['YTD_Performance', 'YTD_Performance_bm'], \n",
    "    var_name='Metric', \n",
    "    value_name='YTD'\n",
    ")\n",
    "\n",
    "# Optional: Portfolio-Name korrekt zuordnen\n",
    "monthly_long['Portfolio'] = monthly_long['Metric'].map({\n",
    "    'YTD_Performance': 'FNI Triple Three Growth',\n",
    "    'YTD_Performance_bm': 'MSCI World Growth Index'\n",
    "})\n",
    "\n",
    "# Metric-Spalte ist jetzt nicht mehr nötig\n",
    "monthly_long = monthly_long.drop(columns=['Metric'])\n",
    "\n",
    "#set the DateTime as index\n",
    "monthly_long.set_index('DateTime', inplace=True)"
   ]
  },
  {
   "cell_type": "code",
   "execution_count": 154,
   "metadata": {},
   "outputs": [
    {
     "data": {
      "application/vnd.microsoft.datawrangler.viewer.v0+json": {
       "columns": [
        {
         "name": "DateTime",
         "rawType": "datetime64[ns]",
         "type": "datetime"
        },
        {
         "name": "YTD",
         "rawType": "float64",
         "type": "float"
        },
        {
         "name": "Portfolio",
         "rawType": "object",
         "type": "string"
        }
       ],
       "ref": "e1b7a2ab-93f4-440b-86e7-dde5e4c3931f",
       "rows": [
        [
         "2025-01-31 00:00:00",
         "6.5379336715532865",
         "FNI Triple Three Growth"
        ],
        [
         "2025-02-28 00:00:00",
         "3.799171065119822",
         "FNI Triple Three Growth"
        ],
        [
         "2025-03-31 00:00:00",
         "-3.0118877728691262",
         "FNI Triple Three Growth"
        ],
        [
         "2025-04-30 00:00:00",
         "-3.861989853400094",
         "FNI Triple Three Growth"
        ],
        [
         "2025-05-31 00:00:00",
         "2.465637439997792",
         "FNI Triple Three Growth"
        ],
        [
         "2025-06-30 00:00:00",
         "1.5684212682567145",
         "FNI Triple Three Growth"
        ],
        [
         "2025-07-31 00:00:00",
         "4.245730712242124",
         "FNI Triple Three Growth"
        ],
        [
         "2025-08-31 00:00:00",
         "4.644493455238163",
         "FNI Triple Three Growth"
        ],
        [
         "2025-01-31 00:00:00",
         "2.6349411027108305",
         "MSCI World Growth Index"
        ],
        [
         "2025-02-28 00:00:00",
         "-0.332357031027386",
         "MSCI World Growth Index"
        ],
        [
         "2025-03-31 00:00:00",
         "-7.900141865489685",
         "MSCI World Growth Index"
        ],
        [
         "2025-04-30 00:00:00",
         "-5.0295879026781005",
         "MSCI World Growth Index"
        ],
        [
         "2025-05-31 00:00:00",
         "3.121252412043507",
         "MSCI World Growth Index"
        ],
        [
         "2025-06-30 00:00:00",
         "8.151187401789151",
         "MSCI World Growth Index"
        ],
        [
         "2025-07-31 00:00:00",
         "10.389272537675364",
         "MSCI World Growth Index"
        ],
        [
         "2025-08-31 00:00:00",
         "13.029072859331947",
         "MSCI World Growth Index"
        ]
       ],
       "shape": {
        "columns": 2,
        "rows": 16
       }
      },
      "text/html": [
       "<div>\n",
       "<style scoped>\n",
       "    .dataframe tbody tr th:only-of-type {\n",
       "        vertical-align: middle;\n",
       "    }\n",
       "\n",
       "    .dataframe tbody tr th {\n",
       "        vertical-align: top;\n",
       "    }\n",
       "\n",
       "    .dataframe thead th {\n",
       "        text-align: right;\n",
       "    }\n",
       "</style>\n",
       "<table border=\"1\" class=\"dataframe\">\n",
       "  <thead>\n",
       "    <tr style=\"text-align: right;\">\n",
       "      <th></th>\n",
       "      <th>YTD</th>\n",
       "      <th>Portfolio</th>\n",
       "    </tr>\n",
       "    <tr>\n",
       "      <th>DateTime</th>\n",
       "      <th></th>\n",
       "      <th></th>\n",
       "    </tr>\n",
       "  </thead>\n",
       "  <tbody>\n",
       "    <tr>\n",
       "      <th>2025-01-31</th>\n",
       "      <td>6.537934</td>\n",
       "      <td>FNI Triple Three Growth</td>\n",
       "    </tr>\n",
       "    <tr>\n",
       "      <th>2025-02-28</th>\n",
       "      <td>3.799171</td>\n",
       "      <td>FNI Triple Three Growth</td>\n",
       "    </tr>\n",
       "    <tr>\n",
       "      <th>2025-03-31</th>\n",
       "      <td>-3.011888</td>\n",
       "      <td>FNI Triple Three Growth</td>\n",
       "    </tr>\n",
       "    <tr>\n",
       "      <th>2025-04-30</th>\n",
       "      <td>-3.861990</td>\n",
       "      <td>FNI Triple Three Growth</td>\n",
       "    </tr>\n",
       "    <tr>\n",
       "      <th>2025-05-31</th>\n",
       "      <td>2.465637</td>\n",
       "      <td>FNI Triple Three Growth</td>\n",
       "    </tr>\n",
       "    <tr>\n",
       "      <th>2025-06-30</th>\n",
       "      <td>1.568421</td>\n",
       "      <td>FNI Triple Three Growth</td>\n",
       "    </tr>\n",
       "    <tr>\n",
       "      <th>2025-07-31</th>\n",
       "      <td>4.245731</td>\n",
       "      <td>FNI Triple Three Growth</td>\n",
       "    </tr>\n",
       "    <tr>\n",
       "      <th>2025-08-31</th>\n",
       "      <td>4.644493</td>\n",
       "      <td>FNI Triple Three Growth</td>\n",
       "    </tr>\n",
       "    <tr>\n",
       "      <th>2025-01-31</th>\n",
       "      <td>2.634941</td>\n",
       "      <td>MSCI World Growth Index</td>\n",
       "    </tr>\n",
       "    <tr>\n",
       "      <th>2025-02-28</th>\n",
       "      <td>-0.332357</td>\n",
       "      <td>MSCI World Growth Index</td>\n",
       "    </tr>\n",
       "    <tr>\n",
       "      <th>2025-03-31</th>\n",
       "      <td>-7.900142</td>\n",
       "      <td>MSCI World Growth Index</td>\n",
       "    </tr>\n",
       "    <tr>\n",
       "      <th>2025-04-30</th>\n",
       "      <td>-5.029588</td>\n",
       "      <td>MSCI World Growth Index</td>\n",
       "    </tr>\n",
       "    <tr>\n",
       "      <th>2025-05-31</th>\n",
       "      <td>3.121252</td>\n",
       "      <td>MSCI World Growth Index</td>\n",
       "    </tr>\n",
       "    <tr>\n",
       "      <th>2025-06-30</th>\n",
       "      <td>8.151187</td>\n",
       "      <td>MSCI World Growth Index</td>\n",
       "    </tr>\n",
       "    <tr>\n",
       "      <th>2025-07-31</th>\n",
       "      <td>10.389273</td>\n",
       "      <td>MSCI World Growth Index</td>\n",
       "    </tr>\n",
       "    <tr>\n",
       "      <th>2025-08-31</th>\n",
       "      <td>13.029073</td>\n",
       "      <td>MSCI World Growth Index</td>\n",
       "    </tr>\n",
       "  </tbody>\n",
       "</table>\n",
       "</div>"
      ],
      "text/plain": [
       "                  YTD                Portfolio\n",
       "DateTime                                      \n",
       "2025-01-31   6.537934  FNI Triple Three Growth\n",
       "2025-02-28   3.799171  FNI Triple Three Growth\n",
       "2025-03-31  -3.011888  FNI Triple Three Growth\n",
       "2025-04-30  -3.861990  FNI Triple Three Growth\n",
       "2025-05-31   2.465637  FNI Triple Three Growth\n",
       "2025-06-30   1.568421  FNI Triple Three Growth\n",
       "2025-07-31   4.245731  FNI Triple Three Growth\n",
       "2025-08-31   4.644493  FNI Triple Three Growth\n",
       "2025-01-31   2.634941  MSCI World Growth Index\n",
       "2025-02-28  -0.332357  MSCI World Growth Index\n",
       "2025-03-31  -7.900142  MSCI World Growth Index\n",
       "2025-04-30  -5.029588  MSCI World Growth Index\n",
       "2025-05-31   3.121252  MSCI World Growth Index\n",
       "2025-06-30   8.151187  MSCI World Growth Index\n",
       "2025-07-31  10.389273  MSCI World Growth Index\n",
       "2025-08-31  13.029073  MSCI World Growth Index"
      ]
     },
     "execution_count": 154,
     "metadata": {},
     "output_type": "execute_result"
    }
   ],
   "source": [
    "monthly_long"
   ]
  },
  {
   "cell_type": "markdown",
   "metadata": {},
   "source": [
    "## Single Stocks"
   ]
  },
  {
   "cell_type": "markdown",
   "metadata": {},
   "source": [
    "#### Path"
   ]
  },
  {
   "cell_type": "code",
   "execution_count": 162,
   "metadata": {},
   "outputs": [],
   "source": [
    "stock_data = pd.read_excel(r\"C:\\Users\\Sebastian Kaiser\\Desktop\\FNI\\IG\\project_Dashboard\\Triple_Three_Dashboard\\Stock_Price_Data\\TripleThree_Stock_Data.xlsx\")"
   ]
  },
  {
   "cell_type": "code",
   "execution_count": 163,
   "metadata": {},
   "outputs": [
    {
     "data": {
      "application/vnd.microsoft.datawrangler.viewer.v0+json": {
       "columns": [
        {
         "name": "index",
         "rawType": "int64",
         "type": "integer"
        },
        {
         "name": "Time Series Name",
         "rawType": "object",
         "type": "string"
        },
        {
         "name": "Resort",
         "rawType": "object",
         "type": "string"
        },
        {
         "name": "Ticker",
         "rawType": "object",
         "type": "string"
        },
        {
         "name": "Buy Date",
         "rawType": "datetime64[ns]",
         "type": "datetime"
        },
        {
         "name": "Manager",
         "rawType": "object",
         "type": "string"
        }
       ],
       "ref": "b0ecd5d6-1409-46a6-b880-abb07c1adf82",
       "rows": [
        [
         "0",
         "Watsco",
         "Consumption",
         "WSO",
         "2024-01-18 00:00:00",
         "Clara Ostermann"
        ],
        [
         "1",
         "Stride",
         "Consumption",
         "LRN",
         "2024-06-13 00:00:00",
         "Jasper Schneider"
        ],
        [
         "2",
         "L'Oreal",
         "Consumption",
         "OR",
         "2020-04-24 00:00:00",
         "Nico Stumpf"
        ],
        [
         "3",
         "Aixtron",
         "Diamonds",
         "AIXA.DE",
         "2024-01-18 00:00:00",
         "Ivan Nivievskyi"
        ],
        [
         "4",
         "Prysmian",
         "Diamonds",
         "PRY.MI",
         "2023-10-26 00:00:00",
         "Ivan Nivievskyi"
        ],
        [
         "5",
         "Zoetis",
         "Healthcare",
         "ZTS",
         "2021-06-23 00:00:00",
         "Lars Dankert "
        ],
        [
         "6",
         "Medistim",
         "Healthcare",
         "MEDI.OL",
         "2024-06-13 00:00:00",
         "Lars Dankert "
        ],
        [
         "7",
         "Siemens Healthineers",
         "Healthcare",
         "SHL.DE",
         "2019-09-03 00:00:00",
         "Jonas Kadmiry"
        ],
        [
         "8",
         "Qualys",
         "IT",
         "QLYS",
         "2022-01-31 00:00:00",
         "Felix von dem Busche"
        ],
        [
         "9",
         "Deutsche Telekom",
         "Diamonds",
         "DTE.DE",
         "2022-10-17 00:00:00",
         "Jasper Schneider"
        ],
        [
         "10",
         "AMD",
         "IT",
         "AMD",
         "2019-09-03 00:00:00",
         "Sebastian Kaiser "
        ],
        [
         "11",
         "Waste Management",
         "Diamonds",
         "WM",
         "2022-12-19 00:00:00",
         "Sebastian Kaiser "
        ],
        [
         "12",
         "Alphabet",
         "IT",
         "GOOGL",
         "2020-04-24 00:00:00",
         "Timo Held"
        ],
        [
         "13",
         "Insulet",
         "Healthcare",
         "PODD",
         "2025-07-02 00:00:00",
         "Timo Held"
        ],
        [
         "14",
         "MercadoLibre",
         "Consumption",
         "MELI",
         "2023-05-24 00:00:00",
         "Clara Ostermann"
        ]
       ],
       "shape": {
        "columns": 5,
        "rows": 15
       }
      },
      "text/html": [
       "<div>\n",
       "<style scoped>\n",
       "    .dataframe tbody tr th:only-of-type {\n",
       "        vertical-align: middle;\n",
       "    }\n",
       "\n",
       "    .dataframe tbody tr th {\n",
       "        vertical-align: top;\n",
       "    }\n",
       "\n",
       "    .dataframe thead th {\n",
       "        text-align: right;\n",
       "    }\n",
       "</style>\n",
       "<table border=\"1\" class=\"dataframe\">\n",
       "  <thead>\n",
       "    <tr style=\"text-align: right;\">\n",
       "      <th></th>\n",
       "      <th>Time Series Name</th>\n",
       "      <th>Resort</th>\n",
       "      <th>Ticker</th>\n",
       "      <th>Buy Date</th>\n",
       "      <th>Manager</th>\n",
       "    </tr>\n",
       "  </thead>\n",
       "  <tbody>\n",
       "    <tr>\n",
       "      <th>0</th>\n",
       "      <td>Watsco</td>\n",
       "      <td>Consumption</td>\n",
       "      <td>WSO</td>\n",
       "      <td>2024-01-18</td>\n",
       "      <td>Clara Ostermann</td>\n",
       "    </tr>\n",
       "    <tr>\n",
       "      <th>1</th>\n",
       "      <td>Stride</td>\n",
       "      <td>Consumption</td>\n",
       "      <td>LRN</td>\n",
       "      <td>2024-06-13</td>\n",
       "      <td>Jasper Schneider</td>\n",
       "    </tr>\n",
       "    <tr>\n",
       "      <th>2</th>\n",
       "      <td>L'Oreal</td>\n",
       "      <td>Consumption</td>\n",
       "      <td>OR</td>\n",
       "      <td>2020-04-24</td>\n",
       "      <td>Nico Stumpf</td>\n",
       "    </tr>\n",
       "    <tr>\n",
       "      <th>3</th>\n",
       "      <td>Aixtron</td>\n",
       "      <td>Diamonds</td>\n",
       "      <td>AIXA.DE</td>\n",
       "      <td>2024-01-18</td>\n",
       "      <td>Ivan Nivievskyi</td>\n",
       "    </tr>\n",
       "    <tr>\n",
       "      <th>4</th>\n",
       "      <td>Prysmian</td>\n",
       "      <td>Diamonds</td>\n",
       "      <td>PRY.MI</td>\n",
       "      <td>2023-10-26</td>\n",
       "      <td>Ivan Nivievskyi</td>\n",
       "    </tr>\n",
       "    <tr>\n",
       "      <th>5</th>\n",
       "      <td>Zoetis</td>\n",
       "      <td>Healthcare</td>\n",
       "      <td>ZTS</td>\n",
       "      <td>2021-06-23</td>\n",
       "      <td>Lars Dankert</td>\n",
       "    </tr>\n",
       "    <tr>\n",
       "      <th>6</th>\n",
       "      <td>Medistim</td>\n",
       "      <td>Healthcare</td>\n",
       "      <td>MEDI.OL</td>\n",
       "      <td>2024-06-13</td>\n",
       "      <td>Lars Dankert</td>\n",
       "    </tr>\n",
       "    <tr>\n",
       "      <th>7</th>\n",
       "      <td>Siemens Healthineers</td>\n",
       "      <td>Healthcare</td>\n",
       "      <td>SHL.DE</td>\n",
       "      <td>2019-09-03</td>\n",
       "      <td>Jonas Kadmiry</td>\n",
       "    </tr>\n",
       "    <tr>\n",
       "      <th>8</th>\n",
       "      <td>Qualys</td>\n",
       "      <td>IT</td>\n",
       "      <td>QLYS</td>\n",
       "      <td>2022-01-31</td>\n",
       "      <td>Felix von dem Busche</td>\n",
       "    </tr>\n",
       "    <tr>\n",
       "      <th>9</th>\n",
       "      <td>Deutsche Telekom</td>\n",
       "      <td>Diamonds</td>\n",
       "      <td>DTE.DE</td>\n",
       "      <td>2022-10-17</td>\n",
       "      <td>Jasper Schneider</td>\n",
       "    </tr>\n",
       "    <tr>\n",
       "      <th>10</th>\n",
       "      <td>AMD</td>\n",
       "      <td>IT</td>\n",
       "      <td>AMD</td>\n",
       "      <td>2019-09-03</td>\n",
       "      <td>Sebastian Kaiser</td>\n",
       "    </tr>\n",
       "    <tr>\n",
       "      <th>11</th>\n",
       "      <td>Waste Management</td>\n",
       "      <td>Diamonds</td>\n",
       "      <td>WM</td>\n",
       "      <td>2022-12-19</td>\n",
       "      <td>Sebastian Kaiser</td>\n",
       "    </tr>\n",
       "    <tr>\n",
       "      <th>12</th>\n",
       "      <td>Alphabet</td>\n",
       "      <td>IT</td>\n",
       "      <td>GOOGL</td>\n",
       "      <td>2020-04-24</td>\n",
       "      <td>Timo Held</td>\n",
       "    </tr>\n",
       "    <tr>\n",
       "      <th>13</th>\n",
       "      <td>Insulet</td>\n",
       "      <td>Healthcare</td>\n",
       "      <td>PODD</td>\n",
       "      <td>2025-07-02</td>\n",
       "      <td>Timo Held</td>\n",
       "    </tr>\n",
       "    <tr>\n",
       "      <th>14</th>\n",
       "      <td>MercadoLibre</td>\n",
       "      <td>Consumption</td>\n",
       "      <td>MELI</td>\n",
       "      <td>2023-05-24</td>\n",
       "      <td>Clara Ostermann</td>\n",
       "    </tr>\n",
       "  </tbody>\n",
       "</table>\n",
       "</div>"
      ],
      "text/plain": [
       "        Time Series Name       Resort   Ticker   Buy Date  \\\n",
       "0                 Watsco  Consumption      WSO 2024-01-18   \n",
       "1                 Stride  Consumption      LRN 2024-06-13   \n",
       "2                L'Oreal  Consumption       OR 2020-04-24   \n",
       "3                Aixtron     Diamonds  AIXA.DE 2024-01-18   \n",
       "4               Prysmian     Diamonds   PRY.MI 2023-10-26   \n",
       "5                 Zoetis   Healthcare      ZTS 2021-06-23   \n",
       "6               Medistim   Healthcare  MEDI.OL 2024-06-13   \n",
       "7   Siemens Healthineers   Healthcare   SHL.DE 2019-09-03   \n",
       "8                 Qualys           IT     QLYS 2022-01-31   \n",
       "9       Deutsche Telekom     Diamonds   DTE.DE 2022-10-17   \n",
       "10                   AMD           IT      AMD 2019-09-03   \n",
       "11      Waste Management     Diamonds       WM 2022-12-19   \n",
       "12              Alphabet           IT    GOOGL 2020-04-24   \n",
       "13               Insulet   Healthcare     PODD 2025-07-02   \n",
       "14          MercadoLibre  Consumption     MELI 2023-05-24   \n",
       "\n",
       "                 Manager  \n",
       "0        Clara Ostermann  \n",
       "1       Jasper Schneider  \n",
       "2            Nico Stumpf  \n",
       "3        Ivan Nivievskyi  \n",
       "4        Ivan Nivievskyi  \n",
       "5          Lars Dankert   \n",
       "6          Lars Dankert   \n",
       "7          Jonas Kadmiry  \n",
       "8   Felix von dem Busche  \n",
       "9       Jasper Schneider  \n",
       "10     Sebastian Kaiser   \n",
       "11     Sebastian Kaiser   \n",
       "12             Timo Held  \n",
       "13             Timo Held  \n",
       "14       Clara Ostermann  "
      ]
     },
     "execution_count": 163,
     "metadata": {},
     "output_type": "execute_result"
    }
   ],
   "source": [
    "stock_data"
   ]
  },
  {
   "cell_type": "markdown",
   "metadata": {},
   "source": [
    "#### Import & Cumprod"
   ]
  },
  {
   "cell_type": "code",
   "execution_count": 201,
   "metadata": {},
   "outputs": [
    {
     "name": "stderr",
     "output_type": "stream",
     "text": [
      "[*********************100%***********************]  15 of 15 completed\n"
     ]
    }
   ],
   "source": [
    "# 1️⃣ List of tickers\n",
    "tickers = stock_data['Ticker'].to_list()\n",
    "\n",
    "# 2️⃣ Earliest buy date\n",
    "start_date_stock = stock_data['Buy Date'].min()\n",
    "\n",
    "# 3️⃣ Download only Close prices\n",
    "stock_prices = yf.download(tickers, start=start_date_stock)['Close']\n",
    "\n",
    "# 4️⃣ If only one ticker, make it a DataFrame\n",
    "if isinstance(stock_prices, pd.Series):\n",
    "    stock_prices = stock_prices.to_frame()\n",
    "\n",
    "# 5️⃣ Rename columns to match Time Series Name\n",
    "stock_prices.columns = stock_data['Time Series Name'].to_list()\n",
    "\n",
    "# 6️⃣ Convert buy dates to datetime\n",
    "stock_data['Buy Date'] = pd.to_datetime(stock_data['Buy Date'])\n",
    "\n",
    "# 7️⃣ Calculate cumulative returns from buy dates\n",
    "stock_cum_returns = pd.DataFrame(index=stock_prices.index)\n",
    "\n",
    "for name, buy_date in zip(stock_data['Time Series Name'], stock_data['Buy Date']):\n",
    "    # Cum Return nur ab Buy-Date berechnen\n",
    "    prices_filtered = stock_prices.loc[stock_prices.index >= buy_date, name]\n",
    "    prices_filtered = prices_filtered.ffill()\n",
    "\n",
    "    cum = (prices_filtered.pct_change(fill_method=None) + 1).cumprod()\n",
    "    cum.iloc[0] = 1\n",
    "    stock_cum_returns[name] = cum - 1\n",
    "\n",
    "# Jetzt haben wir für vor dem Buy-Date einfach keine Spalte\n",
    "# → mit reindex auf den Gesamtindex setzen wir dort NaN\n",
    "stock_cum_returns = stock_cum_returns.reindex(stock_prices.index)\n",
    "\n",
    "\n",
    "\n",
    "# 8️⃣ Melt to long format for PowerBI\n",
    "stock_cum_returns_melted = stock_cum_returns.reset_index().melt(\n",
    "    id_vars='Date', var_name='Stock', value_name='Cumulative Return'\n",
    ")\n"
   ]
  },
  {
   "cell_type": "code",
   "execution_count": 206,
   "metadata": {},
   "outputs": [
    {
     "data": {
      "application/vnd.microsoft.datawrangler.viewer.v0+json": {
       "columns": [
        {
         "name": "index",
         "rawType": "int64",
         "type": "integer"
        },
        {
         "name": "Date",
         "rawType": "datetime64[ns]",
         "type": "datetime"
        },
        {
         "name": "Stock",
         "rawType": "object",
         "type": "string"
        },
        {
         "name": "Cumulative Return",
         "rawType": "float64",
         "type": "float"
        }
       ],
       "ref": "37dd0cff-3674-4086-959e-7ca0af59a54e",
       "rows": [
        [
         "0",
         "2019-09-03 00:00:00",
         "Watsco",
         null
        ],
        [
         "1",
         "2019-09-04 00:00:00",
         "Watsco",
         null
        ],
        [
         "2",
         "2019-09-05 00:00:00",
         "Watsco",
         null
        ],
        [
         "3",
         "2019-09-06 00:00:00",
         "Watsco",
         null
        ],
        [
         "4",
         "2019-09-09 00:00:00",
         "Watsco",
         null
        ],
        [
         "5",
         "2019-09-10 00:00:00",
         "Watsco",
         null
        ],
        [
         "6",
         "2019-09-11 00:00:00",
         "Watsco",
         null
        ],
        [
         "7",
         "2019-09-12 00:00:00",
         "Watsco",
         null
        ],
        [
         "8",
         "2019-09-13 00:00:00",
         "Watsco",
         null
        ],
        [
         "9",
         "2019-09-16 00:00:00",
         "Watsco",
         null
        ],
        [
         "10",
         "2019-09-17 00:00:00",
         "Watsco",
         null
        ],
        [
         "11",
         "2019-09-18 00:00:00",
         "Watsco",
         null
        ],
        [
         "12",
         "2019-09-19 00:00:00",
         "Watsco",
         null
        ],
        [
         "13",
         "2019-09-20 00:00:00",
         "Watsco",
         null
        ],
        [
         "14",
         "2019-09-23 00:00:00",
         "Watsco",
         null
        ],
        [
         "15",
         "2019-09-24 00:00:00",
         "Watsco",
         null
        ],
        [
         "16",
         "2019-09-25 00:00:00",
         "Watsco",
         null
        ],
        [
         "17",
         "2019-09-26 00:00:00",
         "Watsco",
         null
        ],
        [
         "18",
         "2019-09-27 00:00:00",
         "Watsco",
         null
        ],
        [
         "19",
         "2019-09-30 00:00:00",
         "Watsco",
         null
        ],
        [
         "20",
         "2019-10-01 00:00:00",
         "Watsco",
         null
        ],
        [
         "21",
         "2019-10-02 00:00:00",
         "Watsco",
         null
        ],
        [
         "22",
         "2019-10-03 00:00:00",
         "Watsco",
         null
        ],
        [
         "23",
         "2019-10-04 00:00:00",
         "Watsco",
         null
        ],
        [
         "24",
         "2019-10-07 00:00:00",
         "Watsco",
         null
        ],
        [
         "25",
         "2019-10-08 00:00:00",
         "Watsco",
         null
        ],
        [
         "26",
         "2019-10-09 00:00:00",
         "Watsco",
         null
        ],
        [
         "27",
         "2019-10-10 00:00:00",
         "Watsco",
         null
        ],
        [
         "28",
         "2019-10-11 00:00:00",
         "Watsco",
         null
        ],
        [
         "29",
         "2019-10-14 00:00:00",
         "Watsco",
         null
        ],
        [
         "30",
         "2019-10-15 00:00:00",
         "Watsco",
         null
        ],
        [
         "31",
         "2019-10-16 00:00:00",
         "Watsco",
         null
        ],
        [
         "32",
         "2019-10-17 00:00:00",
         "Watsco",
         null
        ],
        [
         "33",
         "2019-10-18 00:00:00",
         "Watsco",
         null
        ],
        [
         "34",
         "2019-10-21 00:00:00",
         "Watsco",
         null
        ],
        [
         "35",
         "2019-10-22 00:00:00",
         "Watsco",
         null
        ],
        [
         "36",
         "2019-10-23 00:00:00",
         "Watsco",
         null
        ],
        [
         "37",
         "2019-10-24 00:00:00",
         "Watsco",
         null
        ],
        [
         "38",
         "2019-10-25 00:00:00",
         "Watsco",
         null
        ],
        [
         "39",
         "2019-10-28 00:00:00",
         "Watsco",
         null
        ],
        [
         "40",
         "2019-10-29 00:00:00",
         "Watsco",
         null
        ],
        [
         "41",
         "2019-10-30 00:00:00",
         "Watsco",
         null
        ],
        [
         "42",
         "2019-10-31 00:00:00",
         "Watsco",
         null
        ],
        [
         "43",
         "2019-11-01 00:00:00",
         "Watsco",
         null
        ],
        [
         "44",
         "2019-11-04 00:00:00",
         "Watsco",
         null
        ],
        [
         "45",
         "2019-11-05 00:00:00",
         "Watsco",
         null
        ],
        [
         "46",
         "2019-11-06 00:00:00",
         "Watsco",
         null
        ],
        [
         "47",
         "2019-11-07 00:00:00",
         "Watsco",
         null
        ],
        [
         "48",
         "2019-11-08 00:00:00",
         "Watsco",
         null
        ],
        [
         "49",
         "2019-11-11 00:00:00",
         "Watsco",
         null
        ]
       ],
       "shape": {
        "columns": 3,
        "rows": 23070
       }
      },
      "text/html": [
       "<div>\n",
       "<style scoped>\n",
       "    .dataframe tbody tr th:only-of-type {\n",
       "        vertical-align: middle;\n",
       "    }\n",
       "\n",
       "    .dataframe tbody tr th {\n",
       "        vertical-align: top;\n",
       "    }\n",
       "\n",
       "    .dataframe thead th {\n",
       "        text-align: right;\n",
       "    }\n",
       "</style>\n",
       "<table border=\"1\" class=\"dataframe\">\n",
       "  <thead>\n",
       "    <tr style=\"text-align: right;\">\n",
       "      <th></th>\n",
       "      <th>Date</th>\n",
       "      <th>Stock</th>\n",
       "      <th>Cumulative Return</th>\n",
       "    </tr>\n",
       "  </thead>\n",
       "  <tbody>\n",
       "    <tr>\n",
       "      <th>0</th>\n",
       "      <td>2019-09-03</td>\n",
       "      <td>Watsco</td>\n",
       "      <td>NaN</td>\n",
       "    </tr>\n",
       "    <tr>\n",
       "      <th>1</th>\n",
       "      <td>2019-09-04</td>\n",
       "      <td>Watsco</td>\n",
       "      <td>NaN</td>\n",
       "    </tr>\n",
       "    <tr>\n",
       "      <th>2</th>\n",
       "      <td>2019-09-05</td>\n",
       "      <td>Watsco</td>\n",
       "      <td>NaN</td>\n",
       "    </tr>\n",
       "    <tr>\n",
       "      <th>3</th>\n",
       "      <td>2019-09-06</td>\n",
       "      <td>Watsco</td>\n",
       "      <td>NaN</td>\n",
       "    </tr>\n",
       "    <tr>\n",
       "      <th>4</th>\n",
       "      <td>2019-09-09</td>\n",
       "      <td>Watsco</td>\n",
       "      <td>NaN</td>\n",
       "    </tr>\n",
       "    <tr>\n",
       "      <th>...</th>\n",
       "      <td>...</td>\n",
       "      <td>...</td>\n",
       "      <td>...</td>\n",
       "    </tr>\n",
       "    <tr>\n",
       "      <th>23065</th>\n",
       "      <td>2025-08-11</td>\n",
       "      <td>MercadoLibre</td>\n",
       "      <td>-0.097401</td>\n",
       "    </tr>\n",
       "    <tr>\n",
       "      <th>23066</th>\n",
       "      <td>2025-08-12</td>\n",
       "      <td>MercadoLibre</td>\n",
       "      <td>-0.092858</td>\n",
       "    </tr>\n",
       "    <tr>\n",
       "      <th>23067</th>\n",
       "      <td>2025-08-13</td>\n",
       "      <td>MercadoLibre</td>\n",
       "      <td>-0.076686</td>\n",
       "    </tr>\n",
       "    <tr>\n",
       "      <th>23068</th>\n",
       "      <td>2025-08-14</td>\n",
       "      <td>MercadoLibre</td>\n",
       "      <td>-0.072931</td>\n",
       "    </tr>\n",
       "    <tr>\n",
       "      <th>23069</th>\n",
       "      <td>2025-08-15</td>\n",
       "      <td>MercadoLibre</td>\n",
       "      <td>-0.072931</td>\n",
       "    </tr>\n",
       "  </tbody>\n",
       "</table>\n",
       "<p>23070 rows × 3 columns</p>\n",
       "</div>"
      ],
      "text/plain": [
       "            Date         Stock  Cumulative Return\n",
       "0     2019-09-03        Watsco                NaN\n",
       "1     2019-09-04        Watsco                NaN\n",
       "2     2019-09-05        Watsco                NaN\n",
       "3     2019-09-06        Watsco                NaN\n",
       "4     2019-09-09        Watsco                NaN\n",
       "...          ...           ...                ...\n",
       "23065 2025-08-11  MercadoLibre          -0.097401\n",
       "23066 2025-08-12  MercadoLibre          -0.092858\n",
       "23067 2025-08-13  MercadoLibre          -0.076686\n",
       "23068 2025-08-14  MercadoLibre          -0.072931\n",
       "23069 2025-08-15  MercadoLibre          -0.072931\n",
       "\n",
       "[23070 rows x 3 columns]"
      ]
     },
     "execution_count": 206,
     "metadata": {},
     "output_type": "execute_result"
    }
   ],
   "source": [
    "stock_cum_returns_melted"
   ]
  },
  {
   "cell_type": "markdown",
   "metadata": {},
   "source": [
    "### Formating "
   ]
  },
  {
   "cell_type": "code",
   "execution_count": 210,
   "metadata": {},
   "outputs": [],
   "source": [
    "# Merge cumulative returns with metadata from stock_data\n",
    "stock_final_merged = pd.merge(\n",
    "    stock_cum_returns_melted,\n",
    "    stock_data[['Time Series Name', 'Ticker', 'Manager', 'Buy Date', 'Resort']],\n",
    "    left_on='Stock',\n",
    "    right_on='Time Series Name',\n",
    "    how='left'\n",
    ")\n",
    "\n",
    "# Set Date as index\n",
    "stock_final_merged = stock_final_merged.set_index('Date')\n",
    "\n",
    "# Drop duplicate Time Series Name column\n",
    "stock_final_merged = stock_final_merged.drop(columns=['Time Series Name'])\n",
    "\n"
   ]
  },
  {
   "cell_type": "code",
   "execution_count": 215,
   "metadata": {},
   "outputs": [
    {
     "data": {
      "application/vnd.microsoft.datawrangler.viewer.v0+json": {
       "columns": [
        {
         "name": "Date",
         "rawType": "datetime64[ns]",
         "type": "datetime"
        },
        {
         "name": "Stock",
         "rawType": "object",
         "type": "string"
        },
        {
         "name": "Cumulative Return",
         "rawType": "float64",
         "type": "float"
        },
        {
         "name": "Ticker",
         "rawType": "object",
         "type": "string"
        },
        {
         "name": "Manager",
         "rawType": "object",
         "type": "string"
        },
        {
         "name": "Buy Date",
         "rawType": "datetime64[ns]",
         "type": "datetime"
        },
        {
         "name": "Resort",
         "rawType": "object",
         "type": "string"
        }
       ],
       "ref": "2348e2af-156a-4eff-ae09-1c23cbc401ed",
       "rows": [
        [
         "2019-09-03 00:00:00",
         "Watsco",
         null,
         "WSO",
         "Clara Ostermann",
         "2024-01-18 00:00:00",
         "Consumption"
        ],
        [
         "2019-09-04 00:00:00",
         "Watsco",
         null,
         "WSO",
         "Clara Ostermann",
         "2024-01-18 00:00:00",
         "Consumption"
        ],
        [
         "2019-09-05 00:00:00",
         "Watsco",
         null,
         "WSO",
         "Clara Ostermann",
         "2024-01-18 00:00:00",
         "Consumption"
        ],
        [
         "2019-09-06 00:00:00",
         "Watsco",
         null,
         "WSO",
         "Clara Ostermann",
         "2024-01-18 00:00:00",
         "Consumption"
        ],
        [
         "2019-09-09 00:00:00",
         "Watsco",
         null,
         "WSO",
         "Clara Ostermann",
         "2024-01-18 00:00:00",
         "Consumption"
        ],
        [
         "2019-09-10 00:00:00",
         "Watsco",
         null,
         "WSO",
         "Clara Ostermann",
         "2024-01-18 00:00:00",
         "Consumption"
        ],
        [
         "2019-09-11 00:00:00",
         "Watsco",
         null,
         "WSO",
         "Clara Ostermann",
         "2024-01-18 00:00:00",
         "Consumption"
        ],
        [
         "2019-09-12 00:00:00",
         "Watsco",
         null,
         "WSO",
         "Clara Ostermann",
         "2024-01-18 00:00:00",
         "Consumption"
        ],
        [
         "2019-09-13 00:00:00",
         "Watsco",
         null,
         "WSO",
         "Clara Ostermann",
         "2024-01-18 00:00:00",
         "Consumption"
        ],
        [
         "2019-09-16 00:00:00",
         "Watsco",
         null,
         "WSO",
         "Clara Ostermann",
         "2024-01-18 00:00:00",
         "Consumption"
        ],
        [
         "2019-09-17 00:00:00",
         "Watsco",
         null,
         "WSO",
         "Clara Ostermann",
         "2024-01-18 00:00:00",
         "Consumption"
        ],
        [
         "2019-09-18 00:00:00",
         "Watsco",
         null,
         "WSO",
         "Clara Ostermann",
         "2024-01-18 00:00:00",
         "Consumption"
        ],
        [
         "2019-09-19 00:00:00",
         "Watsco",
         null,
         "WSO",
         "Clara Ostermann",
         "2024-01-18 00:00:00",
         "Consumption"
        ],
        [
         "2019-09-20 00:00:00",
         "Watsco",
         null,
         "WSO",
         "Clara Ostermann",
         "2024-01-18 00:00:00",
         "Consumption"
        ],
        [
         "2019-09-23 00:00:00",
         "Watsco",
         null,
         "WSO",
         "Clara Ostermann",
         "2024-01-18 00:00:00",
         "Consumption"
        ],
        [
         "2019-09-24 00:00:00",
         "Watsco",
         null,
         "WSO",
         "Clara Ostermann",
         "2024-01-18 00:00:00",
         "Consumption"
        ],
        [
         "2019-09-25 00:00:00",
         "Watsco",
         null,
         "WSO",
         "Clara Ostermann",
         "2024-01-18 00:00:00",
         "Consumption"
        ],
        [
         "2019-09-26 00:00:00",
         "Watsco",
         null,
         "WSO",
         "Clara Ostermann",
         "2024-01-18 00:00:00",
         "Consumption"
        ],
        [
         "2019-09-27 00:00:00",
         "Watsco",
         null,
         "WSO",
         "Clara Ostermann",
         "2024-01-18 00:00:00",
         "Consumption"
        ],
        [
         "2019-09-30 00:00:00",
         "Watsco",
         null,
         "WSO",
         "Clara Ostermann",
         "2024-01-18 00:00:00",
         "Consumption"
        ],
        [
         "2019-10-01 00:00:00",
         "Watsco",
         null,
         "WSO",
         "Clara Ostermann",
         "2024-01-18 00:00:00",
         "Consumption"
        ],
        [
         "2019-10-02 00:00:00",
         "Watsco",
         null,
         "WSO",
         "Clara Ostermann",
         "2024-01-18 00:00:00",
         "Consumption"
        ],
        [
         "2019-10-03 00:00:00",
         "Watsco",
         null,
         "WSO",
         "Clara Ostermann",
         "2024-01-18 00:00:00",
         "Consumption"
        ],
        [
         "2019-10-04 00:00:00",
         "Watsco",
         null,
         "WSO",
         "Clara Ostermann",
         "2024-01-18 00:00:00",
         "Consumption"
        ],
        [
         "2019-10-07 00:00:00",
         "Watsco",
         null,
         "WSO",
         "Clara Ostermann",
         "2024-01-18 00:00:00",
         "Consumption"
        ],
        [
         "2019-10-08 00:00:00",
         "Watsco",
         null,
         "WSO",
         "Clara Ostermann",
         "2024-01-18 00:00:00",
         "Consumption"
        ],
        [
         "2019-10-09 00:00:00",
         "Watsco",
         null,
         "WSO",
         "Clara Ostermann",
         "2024-01-18 00:00:00",
         "Consumption"
        ],
        [
         "2019-10-10 00:00:00",
         "Watsco",
         null,
         "WSO",
         "Clara Ostermann",
         "2024-01-18 00:00:00",
         "Consumption"
        ],
        [
         "2019-10-11 00:00:00",
         "Watsco",
         null,
         "WSO",
         "Clara Ostermann",
         "2024-01-18 00:00:00",
         "Consumption"
        ],
        [
         "2019-10-14 00:00:00",
         "Watsco",
         null,
         "WSO",
         "Clara Ostermann",
         "2024-01-18 00:00:00",
         "Consumption"
        ],
        [
         "2019-10-15 00:00:00",
         "Watsco",
         null,
         "WSO",
         "Clara Ostermann",
         "2024-01-18 00:00:00",
         "Consumption"
        ],
        [
         "2019-10-16 00:00:00",
         "Watsco",
         null,
         "WSO",
         "Clara Ostermann",
         "2024-01-18 00:00:00",
         "Consumption"
        ],
        [
         "2019-10-17 00:00:00",
         "Watsco",
         null,
         "WSO",
         "Clara Ostermann",
         "2024-01-18 00:00:00",
         "Consumption"
        ],
        [
         "2019-10-18 00:00:00",
         "Watsco",
         null,
         "WSO",
         "Clara Ostermann",
         "2024-01-18 00:00:00",
         "Consumption"
        ],
        [
         "2019-10-21 00:00:00",
         "Watsco",
         null,
         "WSO",
         "Clara Ostermann",
         "2024-01-18 00:00:00",
         "Consumption"
        ],
        [
         "2019-10-22 00:00:00",
         "Watsco",
         null,
         "WSO",
         "Clara Ostermann",
         "2024-01-18 00:00:00",
         "Consumption"
        ],
        [
         "2019-10-23 00:00:00",
         "Watsco",
         null,
         "WSO",
         "Clara Ostermann",
         "2024-01-18 00:00:00",
         "Consumption"
        ],
        [
         "2019-10-24 00:00:00",
         "Watsco",
         null,
         "WSO",
         "Clara Ostermann",
         "2024-01-18 00:00:00",
         "Consumption"
        ],
        [
         "2019-10-25 00:00:00",
         "Watsco",
         null,
         "WSO",
         "Clara Ostermann",
         "2024-01-18 00:00:00",
         "Consumption"
        ],
        [
         "2019-10-28 00:00:00",
         "Watsco",
         null,
         "WSO",
         "Clara Ostermann",
         "2024-01-18 00:00:00",
         "Consumption"
        ],
        [
         "2019-10-29 00:00:00",
         "Watsco",
         null,
         "WSO",
         "Clara Ostermann",
         "2024-01-18 00:00:00",
         "Consumption"
        ],
        [
         "2019-10-30 00:00:00",
         "Watsco",
         null,
         "WSO",
         "Clara Ostermann",
         "2024-01-18 00:00:00",
         "Consumption"
        ],
        [
         "2019-10-31 00:00:00",
         "Watsco",
         null,
         "WSO",
         "Clara Ostermann",
         "2024-01-18 00:00:00",
         "Consumption"
        ],
        [
         "2019-11-01 00:00:00",
         "Watsco",
         null,
         "WSO",
         "Clara Ostermann",
         "2024-01-18 00:00:00",
         "Consumption"
        ],
        [
         "2019-11-04 00:00:00",
         "Watsco",
         null,
         "WSO",
         "Clara Ostermann",
         "2024-01-18 00:00:00",
         "Consumption"
        ],
        [
         "2019-11-05 00:00:00",
         "Watsco",
         null,
         "WSO",
         "Clara Ostermann",
         "2024-01-18 00:00:00",
         "Consumption"
        ],
        [
         "2019-11-06 00:00:00",
         "Watsco",
         null,
         "WSO",
         "Clara Ostermann",
         "2024-01-18 00:00:00",
         "Consumption"
        ],
        [
         "2019-11-07 00:00:00",
         "Watsco",
         null,
         "WSO",
         "Clara Ostermann",
         "2024-01-18 00:00:00",
         "Consumption"
        ],
        [
         "2019-11-08 00:00:00",
         "Watsco",
         null,
         "WSO",
         "Clara Ostermann",
         "2024-01-18 00:00:00",
         "Consumption"
        ],
        [
         "2019-11-11 00:00:00",
         "Watsco",
         null,
         "WSO",
         "Clara Ostermann",
         "2024-01-18 00:00:00",
         "Consumption"
        ]
       ],
       "shape": {
        "columns": 6,
        "rows": 23070
       }
      },
      "text/html": [
       "<div>\n",
       "<style scoped>\n",
       "    .dataframe tbody tr th:only-of-type {\n",
       "        vertical-align: middle;\n",
       "    }\n",
       "\n",
       "    .dataframe tbody tr th {\n",
       "        vertical-align: top;\n",
       "    }\n",
       "\n",
       "    .dataframe thead th {\n",
       "        text-align: right;\n",
       "    }\n",
       "</style>\n",
       "<table border=\"1\" class=\"dataframe\">\n",
       "  <thead>\n",
       "    <tr style=\"text-align: right;\">\n",
       "      <th></th>\n",
       "      <th>Stock</th>\n",
       "      <th>Cumulative Return</th>\n",
       "      <th>Ticker</th>\n",
       "      <th>Manager</th>\n",
       "      <th>Buy Date</th>\n",
       "      <th>Resort</th>\n",
       "    </tr>\n",
       "    <tr>\n",
       "      <th>Date</th>\n",
       "      <th></th>\n",
       "      <th></th>\n",
       "      <th></th>\n",
       "      <th></th>\n",
       "      <th></th>\n",
       "      <th></th>\n",
       "    </tr>\n",
       "  </thead>\n",
       "  <tbody>\n",
       "    <tr>\n",
       "      <th>2019-09-03</th>\n",
       "      <td>Watsco</td>\n",
       "      <td>NaN</td>\n",
       "      <td>WSO</td>\n",
       "      <td>Clara Ostermann</td>\n",
       "      <td>2024-01-18</td>\n",
       "      <td>Consumption</td>\n",
       "    </tr>\n",
       "    <tr>\n",
       "      <th>2019-09-04</th>\n",
       "      <td>Watsco</td>\n",
       "      <td>NaN</td>\n",
       "      <td>WSO</td>\n",
       "      <td>Clara Ostermann</td>\n",
       "      <td>2024-01-18</td>\n",
       "      <td>Consumption</td>\n",
       "    </tr>\n",
       "    <tr>\n",
       "      <th>2019-09-05</th>\n",
       "      <td>Watsco</td>\n",
       "      <td>NaN</td>\n",
       "      <td>WSO</td>\n",
       "      <td>Clara Ostermann</td>\n",
       "      <td>2024-01-18</td>\n",
       "      <td>Consumption</td>\n",
       "    </tr>\n",
       "    <tr>\n",
       "      <th>2019-09-06</th>\n",
       "      <td>Watsco</td>\n",
       "      <td>NaN</td>\n",
       "      <td>WSO</td>\n",
       "      <td>Clara Ostermann</td>\n",
       "      <td>2024-01-18</td>\n",
       "      <td>Consumption</td>\n",
       "    </tr>\n",
       "    <tr>\n",
       "      <th>2019-09-09</th>\n",
       "      <td>Watsco</td>\n",
       "      <td>NaN</td>\n",
       "      <td>WSO</td>\n",
       "      <td>Clara Ostermann</td>\n",
       "      <td>2024-01-18</td>\n",
       "      <td>Consumption</td>\n",
       "    </tr>\n",
       "    <tr>\n",
       "      <th>...</th>\n",
       "      <td>...</td>\n",
       "      <td>...</td>\n",
       "      <td>...</td>\n",
       "      <td>...</td>\n",
       "      <td>...</td>\n",
       "      <td>...</td>\n",
       "    </tr>\n",
       "    <tr>\n",
       "      <th>2025-08-11</th>\n",
       "      <td>MercadoLibre</td>\n",
       "      <td>-0.097401</td>\n",
       "      <td>MELI</td>\n",
       "      <td>Clara Ostermann</td>\n",
       "      <td>2023-05-24</td>\n",
       "      <td>Consumption</td>\n",
       "    </tr>\n",
       "    <tr>\n",
       "      <th>2025-08-12</th>\n",
       "      <td>MercadoLibre</td>\n",
       "      <td>-0.092858</td>\n",
       "      <td>MELI</td>\n",
       "      <td>Clara Ostermann</td>\n",
       "      <td>2023-05-24</td>\n",
       "      <td>Consumption</td>\n",
       "    </tr>\n",
       "    <tr>\n",
       "      <th>2025-08-13</th>\n",
       "      <td>MercadoLibre</td>\n",
       "      <td>-0.076686</td>\n",
       "      <td>MELI</td>\n",
       "      <td>Clara Ostermann</td>\n",
       "      <td>2023-05-24</td>\n",
       "      <td>Consumption</td>\n",
       "    </tr>\n",
       "    <tr>\n",
       "      <th>2025-08-14</th>\n",
       "      <td>MercadoLibre</td>\n",
       "      <td>-0.072931</td>\n",
       "      <td>MELI</td>\n",
       "      <td>Clara Ostermann</td>\n",
       "      <td>2023-05-24</td>\n",
       "      <td>Consumption</td>\n",
       "    </tr>\n",
       "    <tr>\n",
       "      <th>2025-08-15</th>\n",
       "      <td>MercadoLibre</td>\n",
       "      <td>-0.072931</td>\n",
       "      <td>MELI</td>\n",
       "      <td>Clara Ostermann</td>\n",
       "      <td>2023-05-24</td>\n",
       "      <td>Consumption</td>\n",
       "    </tr>\n",
       "  </tbody>\n",
       "</table>\n",
       "<p>23070 rows × 6 columns</p>\n",
       "</div>"
      ],
      "text/plain": [
       "                   Stock  Cumulative Return Ticker          Manager  \\\n",
       "Date                                                                  \n",
       "2019-09-03        Watsco                NaN    WSO  Clara Ostermann   \n",
       "2019-09-04        Watsco                NaN    WSO  Clara Ostermann   \n",
       "2019-09-05        Watsco                NaN    WSO  Clara Ostermann   \n",
       "2019-09-06        Watsco                NaN    WSO  Clara Ostermann   \n",
       "2019-09-09        Watsco                NaN    WSO  Clara Ostermann   \n",
       "...                  ...                ...    ...              ...   \n",
       "2025-08-11  MercadoLibre          -0.097401   MELI  Clara Ostermann   \n",
       "2025-08-12  MercadoLibre          -0.092858   MELI  Clara Ostermann   \n",
       "2025-08-13  MercadoLibre          -0.076686   MELI  Clara Ostermann   \n",
       "2025-08-14  MercadoLibre          -0.072931   MELI  Clara Ostermann   \n",
       "2025-08-15  MercadoLibre          -0.072931   MELI  Clara Ostermann   \n",
       "\n",
       "             Buy Date       Resort  \n",
       "Date                                \n",
       "2019-09-03 2024-01-18  Consumption  \n",
       "2019-09-04 2024-01-18  Consumption  \n",
       "2019-09-05 2024-01-18  Consumption  \n",
       "2019-09-06 2024-01-18  Consumption  \n",
       "2019-09-09 2024-01-18  Consumption  \n",
       "...               ...          ...  \n",
       "2025-08-11 2023-05-24  Consumption  \n",
       "2025-08-12 2023-05-24  Consumption  \n",
       "2025-08-13 2023-05-24  Consumption  \n",
       "2025-08-14 2023-05-24  Consumption  \n",
       "2025-08-15 2023-05-24  Consumption  \n",
       "\n",
       "[23070 rows x 6 columns]"
      ]
     },
     "execution_count": 215,
     "metadata": {},
     "output_type": "execute_result"
    }
   ],
   "source": [
    "stock_final_merged"
   ]
  },
  {
   "cell_type": "markdown",
   "metadata": {},
   "source": [
    "### EOM YTD Calculation (Stocks)"
   ]
  },
  {
   "cell_type": "code",
   "execution_count": 216,
   "metadata": {},
   "outputs": [
    {
     "name": "stderr",
     "output_type": "stream",
     "text": [
      "C:\\Users\\Sebastian Kaiser\\AppData\\Local\\Temp\\ipykernel_55436\\2894960292.py:14: FutureWarning: 'M' is deprecated and will be removed in a future version, please use 'ME' instead.\n",
      "  .apply(lambda df: df.resample('M').last())  # 'M' = Monatsende\n",
      "C:\\Users\\Sebastian Kaiser\\AppData\\Local\\Temp\\ipykernel_55436\\2894960292.py:14: DeprecationWarning: DataFrameGroupBy.apply operated on the grouping columns. This behavior is deprecated, and in a future version of pandas the grouping columns will be excluded from the operation. Either pass `include_groups=False` to exclude the groupings or explicitly select the grouping columns after groupby to silence this warning.\n",
      "  .apply(lambda df: df.resample('M').last())  # 'M' = Monatsende\n"
     ]
    }
   ],
   "source": [
    "# Sicherstellen, dass Date ein DatetimeIndex ist\n",
    "# Sicherstellen, dass Date ein DatetimeIndex ist\n",
    "if not isinstance(stock_final_merged.index, pd.DatetimeIndex):\n",
    "    stock_final_merged = stock_final_merged.set_index('Date')\n",
    "stock_final_merged.index = pd.to_datetime(stock_final_merged.index)\n",
    "\n",
    "# Nur Daten ab 2025\n",
    "stock_2025 = stock_final_merged[stock_final_merged.index.year >= 2025].copy()\n",
    "\n",
    "# Monatsendwerte pro Aktie\n",
    "stocks_monthly_last = (\n",
    "    stock_2025\n",
    "    .groupby('Stock', group_keys=False)\n",
    "    .apply(lambda df: df.resample('M').last())  # 'M' = Monatsende\n",
    ")\n",
    "\n",
    "# Year-Spalte für Gruppierung hinzufügen\n",
    "stocks_monthly_last['Year'] = stocks_monthly_last.index.year\n",
    "\n",
    "# YTD-Performance pro Aktie ab Jahresbeginn 2025\n",
    "stocks_monthly_last['YTD_Performance'] = (\n",
    "    stocks_monthly_last\n",
    "    .groupby(['Stock', 'Year'])['Cumulative Return']\n",
    "    .transform(lambda x: (x + 1) / (x.iloc[0] + 1) - 1) * 100\n",
    ")\n",
    "\n",
    "# Index zurücksetzen (z.B. für PowerBI)\n",
    "stocks_monthly_last = stocks_monthly_last.reset_index()"
   ]
  },
  {
   "cell_type": "code",
   "execution_count": 222,
   "metadata": {},
   "outputs": [
    {
     "name": "stderr",
     "output_type": "stream",
     "text": [
      "C:\\Users\\Sebastian Kaiser\\AppData\\Local\\Temp\\ipykernel_55436\\3343399234.py:19: FutureWarning: The default fill_method='ffill' in SeriesGroupBy.pct_change is deprecated and will be removed in a future version. Either fill in any non-leading NA values prior to calling pct_change or specify 'fill_method=None' to not fill NA values.\n",
      "  .pct_change()\n",
      "C:\\Users\\Sebastian Kaiser\\AppData\\Local\\Temp\\ipykernel_55436\\3343399234.py:34: FutureWarning: 'M' is deprecated and will be removed in a future version, please use 'ME' instead.\n",
      "  .apply(lambda g: g.resample('M').last())\n",
      "C:\\Users\\Sebastian Kaiser\\AppData\\Local\\Temp\\ipykernel_55436\\3343399234.py:34: DeprecationWarning: DataFrameGroupBy.apply operated on the grouping columns. This behavior is deprecated, and in a future version of pandas the grouping columns will be excluded from the operation. Either pass `include_groups=False` to exclude the groupings or explicitly select the grouping columns after groupby to silence this warning.\n",
      "  .apply(lambda g: g.resample('M').last())\n"
     ]
    }
   ],
   "source": [
    "df = stock_final_merged.copy()\n",
    "\n",
    "# DatetimeIndex sicherstellen\n",
    "if not isinstance(df.index, pd.DatetimeIndex):\n",
    "    df = df.set_index('Date')\n",
    "df.index = pd.to_datetime(df.index)\n",
    "df = df.sort_index()\n",
    "\n",
    "# Nur Daten ab 2025 für die YTD-Berechnung\n",
    "df_2025 = df[df.index.year >= 2025].copy()\n",
    "\n",
    "# Total-Return-Index (TRI) aus Cumulative Return (angenommen: Cumulative Return = Gesamtperformance seit Kauf)\n",
    "df_2025['TRI'] = 1 + df_2025['Cumulative Return']\n",
    "\n",
    "# Tägliche Rendite je Stock (aus TRI abgeleitet)\n",
    "df_2025['daily_ret'] = (\n",
    "    df_2025\n",
    "    .groupby('Stock')['TRI']\n",
    "    .pct_change()\n",
    ")\n",
    "\n",
    "# YTD (innerhalb 2025) als kumuliertes Produkt der täglichen Renditen\n",
    "# Erster Handelstag des Jahres bekommt YTD = 0 (Basis 1)\n",
    "df_2025['YTD_Performance'] = (\n",
    "    df_2025\n",
    "    .groupby('Stock')['daily_ret']\n",
    "    .transform(lambda r: (r.fillna(0) + 1).cumprod() - 1) * 100\n",
    ")\n",
    "\n",
    "# End-of-Month je Stock nehmen\n",
    "ytd_eom = (\n",
    "    df_2025\n",
    "    .groupby('Stock', group_keys=False)\n",
    "    .apply(lambda g: g.resample('M').last())\n",
    ")"
   ]
  },
  {
   "cell_type": "code",
   "execution_count": 224,
   "metadata": {},
   "outputs": [],
   "source": [
    "ytd_long = (\n",
    "    ytd_eom\n",
    "    .reset_index()\n",
    "    .loc[:, ['Date', 'Stock', 'YTD_Performance']]\n",
    "    .rename(columns={'Date': 'DateTime', 'Stock': 'Portfolio', 'YTD_Performance': 'YTD'})\n",
    "    .sort_values(['Portfolio', 'DateTime'])\n",
    ")"
   ]
  },
  {
   "cell_type": "code",
   "execution_count": 225,
   "metadata": {},
   "outputs": [
    {
     "data": {
      "application/vnd.microsoft.datawrangler.viewer.v0+json": {
       "columns": [
        {
         "name": "index",
         "rawType": "int64",
         "type": "integer"
        },
        {
         "name": "DateTime",
         "rawType": "datetime64[ns]",
         "type": "datetime"
        },
        {
         "name": "Portfolio",
         "rawType": "object",
         "type": "string"
        },
        {
         "name": "YTD",
         "rawType": "float64",
         "type": "float"
        }
       ],
       "ref": "ca62c3dd-6518-4e33-9dec-d24719c1247f",
       "rows": [
        [
         "0",
         "2025-01-31 00:00:00",
         "AMD",
         "0.3527249493396667"
        ],
        [
         "1",
         "2025-02-28 00:00:00",
         "AMD",
         "-5.369991040458977"
        ],
        [
         "2",
         "2025-03-31 00:00:00",
         "AMD",
         "-9.350704027487788"
        ],
        [
         "3",
         "2025-04-30 00:00:00",
         "AMD",
         "-9.509069434630701"
        ],
        [
         "4",
         "2025-05-31 00:00:00",
         "AMD",
         "-0.2663368284367307"
        ],
        [
         "5",
         "2025-06-30 00:00:00",
         "AMD",
         "2.843360927372318"
        ],
        [
         "6",
         "2025-07-31 00:00:00",
         "AMD",
         "-4.211050188477683"
        ],
        [
         "7",
         "2025-08-31 00:00:00",
         "AMD",
         "-7.025622398127663"
        ],
        [
         "8",
         "2025-01-31 00:00:00",
         "Aixtron",
         "7.7020662307757615"
        ],
        [
         "9",
         "2025-02-28 00:00:00",
         "Aixtron",
         "-10.109276314997961"
        ],
        [
         "10",
         "2025-03-31 00:00:00",
         "Aixtron",
         "-18.27160123014473"
        ],
        [
         "11",
         "2025-04-30 00:00:00",
         "Aixtron",
         "-16.073010960089483"
        ],
        [
         "12",
         "2025-05-31 00:00:00",
         "Aixtron",
         "-9.234119504967463"
        ],
        [
         "13",
         "2025-06-30 00:00:00",
         "Aixtron",
         "-6.748372191377583"
        ],
        [
         "14",
         "2025-07-31 00:00:00",
         "Aixtron",
         "1.5433651543546922"
        ],
        [
         "15",
         "2025-08-31 00:00:00",
         "Aixtron",
         "7.385155954978284"
        ],
        [
         "16",
         "2025-01-31 00:00:00",
         "Alphabet",
         "9.833452169802737"
        ],
        [
         "17",
         "2025-02-28 00:00:00",
         "Alphabet",
         "16.076597103905165"
        ],
        [
         "18",
         "2025-03-31 00:00:00",
         "Alphabet",
         "15.871596530669985"
        ],
        [
         "19",
         "2025-04-30 00:00:00",
         "Alphabet",
         "16.79752472728424"
        ],
        [
         "20",
         "2025-05-31 00:00:00",
         "Alphabet",
         "20.606358742266863"
        ],
        [
         "21",
         "2025-06-30 00:00:00",
         "Alphabet",
         "14.9225396712513"
        ],
        [
         "22",
         "2025-07-31 00:00:00",
         "Alphabet",
         "15.093299401076665"
        ],
        [
         "23",
         "2025-08-31 00:00:00",
         "Alphabet",
         "13.581552370098038"
        ],
        [
         "24",
         "2025-01-31 00:00:00",
         "Deutsche Telekom",
         "6.7871799361567176"
        ],
        [
         "25",
         "2025-02-28 00:00:00",
         "Deutsche Telekom",
         "-9.546460958451808"
        ],
        [
         "26",
         "2025-03-31 00:00:00",
         "Deutsche Telekom",
         "-20.139550000551253"
        ],
        [
         "27",
         "2025-04-30 00:00:00",
         "Deutsche Telekom",
         "-22.598381370766628"
        ],
        [
         "28",
         "2025-05-31 00:00:00",
         "Deutsche Telekom",
         "-8.616361664467242"
        ],
        [
         "29",
         "2025-06-30 00:00:00",
         "Deutsche Telekom",
         "-3.062298988607781"
        ],
        [
         "30",
         "2025-07-31 00:00:00",
         "Deutsche Telekom",
         "13.632162340124786"
        ],
        [
         "31",
         "2025-08-31 00:00:00",
         "Deutsche Telekom",
         "20.477871509271473"
        ],
        [
         "32",
         "2025-01-31 00:00:00",
         "Insulet",
         "0.0"
        ],
        [
         "33",
         "2025-02-28 00:00:00",
         "Insulet",
         "0.0"
        ],
        [
         "34",
         "2025-03-31 00:00:00",
         "Insulet",
         "0.0"
        ],
        [
         "35",
         "2025-04-30 00:00:00",
         "Insulet",
         "0.0"
        ],
        [
         "36",
         "2025-05-31 00:00:00",
         "Insulet",
         "0.0"
        ],
        [
         "37",
         "2025-06-30 00:00:00",
         "Insulet",
         "0.0"
        ],
        [
         "38",
         "2025-07-31 00:00:00",
         "Insulet",
         "-0.6115231396305876"
        ],
        [
         "39",
         "2025-08-31 00:00:00",
         "Insulet",
         "-7.061371817841211"
        ],
        [
         "40",
         "2025-01-31 00:00:00",
         "L'Oreal",
         "10.901609493180974"
        ],
        [
         "41",
         "2025-02-28 00:00:00",
         "L'Oreal",
         "19.12924209311584"
        ],
        [
         "42",
         "2025-03-31 00:00:00",
         "L'Oreal",
         "17.31231054279725"
        ],
        [
         "43",
         "2025-04-30 00:00:00",
         "L'Oreal",
         "11.506290892788652"
        ],
        [
         "44",
         "2025-05-31 00:00:00",
         "L'Oreal",
         "17.434467721463154"
        ],
        [
         "45",
         "2025-06-30 00:00:00",
         "L'Oreal",
         "9.283218692915574"
        ],
        [
         "46",
         "2025-07-31 00:00:00",
         "L'Oreal",
         "11.082846325528983"
        ],
        [
         "47",
         "2025-08-31 00:00:00",
         "L'Oreal",
         "8.542199113239901"
        ],
        [
         "48",
         "2025-01-31 00:00:00",
         "Medistim",
         "8.905945688739415"
        ],
        [
         "49",
         "2025-02-28 00:00:00",
         "Medistim",
         "20.219270095609087"
        ]
       ],
       "shape": {
        "columns": 3,
        "rows": 120
       }
      },
      "text/html": [
       "<div>\n",
       "<style scoped>\n",
       "    .dataframe tbody tr th:only-of-type {\n",
       "        vertical-align: middle;\n",
       "    }\n",
       "\n",
       "    .dataframe tbody tr th {\n",
       "        vertical-align: top;\n",
       "    }\n",
       "\n",
       "    .dataframe thead th {\n",
       "        text-align: right;\n",
       "    }\n",
       "</style>\n",
       "<table border=\"1\" class=\"dataframe\">\n",
       "  <thead>\n",
       "    <tr style=\"text-align: right;\">\n",
       "      <th></th>\n",
       "      <th>DateTime</th>\n",
       "      <th>Portfolio</th>\n",
       "      <th>YTD</th>\n",
       "    </tr>\n",
       "  </thead>\n",
       "  <tbody>\n",
       "    <tr>\n",
       "      <th>0</th>\n",
       "      <td>2025-01-31</td>\n",
       "      <td>AMD</td>\n",
       "      <td>0.352725</td>\n",
       "    </tr>\n",
       "    <tr>\n",
       "      <th>1</th>\n",
       "      <td>2025-02-28</td>\n",
       "      <td>AMD</td>\n",
       "      <td>-5.369991</td>\n",
       "    </tr>\n",
       "    <tr>\n",
       "      <th>2</th>\n",
       "      <td>2025-03-31</td>\n",
       "      <td>AMD</td>\n",
       "      <td>-9.350704</td>\n",
       "    </tr>\n",
       "    <tr>\n",
       "      <th>3</th>\n",
       "      <td>2025-04-30</td>\n",
       "      <td>AMD</td>\n",
       "      <td>-9.509069</td>\n",
       "    </tr>\n",
       "    <tr>\n",
       "      <th>4</th>\n",
       "      <td>2025-05-31</td>\n",
       "      <td>AMD</td>\n",
       "      <td>-0.266337</td>\n",
       "    </tr>\n",
       "    <tr>\n",
       "      <th>...</th>\n",
       "      <td>...</td>\n",
       "      <td>...</td>\n",
       "      <td>...</td>\n",
       "    </tr>\n",
       "    <tr>\n",
       "      <th>115</th>\n",
       "      <td>2025-04-30</td>\n",
       "      <td>Zoetis</td>\n",
       "      <td>5.245902</td>\n",
       "    </tr>\n",
       "    <tr>\n",
       "      <th>116</th>\n",
       "      <td>2025-05-31</td>\n",
       "      <td>Zoetis</td>\n",
       "      <td>34.290038</td>\n",
       "    </tr>\n",
       "    <tr>\n",
       "      <th>117</th>\n",
       "      <td>2025-06-30</td>\n",
       "      <td>Zoetis</td>\n",
       "      <td>42.109458</td>\n",
       "    </tr>\n",
       "    <tr>\n",
       "      <th>118</th>\n",
       "      <td>2025-07-31</td>\n",
       "      <td>Zoetis</td>\n",
       "      <td>48.229004</td>\n",
       "    </tr>\n",
       "    <tr>\n",
       "      <th>119</th>\n",
       "      <td>2025-08-31</td>\n",
       "      <td>Zoetis</td>\n",
       "      <td>55.028500</td>\n",
       "    </tr>\n",
       "  </tbody>\n",
       "</table>\n",
       "<p>120 rows × 3 columns</p>\n",
       "</div>"
      ],
      "text/plain": [
       "      DateTime Portfolio        YTD\n",
       "0   2025-01-31       AMD   0.352725\n",
       "1   2025-02-28       AMD  -5.369991\n",
       "2   2025-03-31       AMD  -9.350704\n",
       "3   2025-04-30       AMD  -9.509069\n",
       "4   2025-05-31       AMD  -0.266337\n",
       "..         ...       ...        ...\n",
       "115 2025-04-30    Zoetis   5.245902\n",
       "116 2025-05-31    Zoetis  34.290038\n",
       "117 2025-06-30    Zoetis  42.109458\n",
       "118 2025-07-31    Zoetis  48.229004\n",
       "119 2025-08-31    Zoetis  55.028500\n",
       "\n",
       "[120 rows x 3 columns]"
      ]
     },
     "execution_count": 225,
     "metadata": {},
     "output_type": "execute_result"
    }
   ],
   "source": [
    "ytd_long"
   ]
  },
  {
   "cell_type": "markdown",
   "metadata": {},
   "source": [
    "## Exports"
   ]
  },
  {
   "cell_type": "markdown",
   "metadata": {},
   "source": [
    "#### Portfolio (Export)"
   ]
  },
  {
   "cell_type": "code",
   "execution_count": 161,
   "metadata": {},
   "outputs": [],
   "source": [
    "# Export the data to excel \n",
    "merged_data.to_excel(r\"C:\\Users\\Sebastian Kaiser\\Desktop\\FNI\\IG\\project_Dashboard\\Triple_Three_Dashboard\\Exports\\portfolio_data.xlsx\", index=True)\n",
    "# Export data_eom \n",
    "monthly_long.to_excel(r\"C:\\Users\\Sebastian Kaiser\\Desktop\\FNI\\IG\\project_Dashboard\\Triple_Three_Dashboard\\Exports\\data_eom_portfolio.xlsx\", index=True)\n",
    "# Als CSV exportieren für Power BI\n",
    "kpis.to_excel(r\"C:\\Users\\Sebastian Kaiser\\Desktop\\FNI\\IG\\project_Dashboard\\Triple_Three_Dashboard\\Exports\\kpis_portfolio.xlsx\", index=False)"
   ]
  },
  {
   "cell_type": "markdown",
   "metadata": {},
   "source": [
    "#### Stocks (Export)"
   ]
  },
  {
   "cell_type": "code",
   "execution_count": 227,
   "metadata": {},
   "outputs": [],
   "source": [
    "stock_final_merged.to_excel(r\"C:\\Users\\Sebastian Kaiser\\Desktop\\FNI\\IG\\project_Dashboard\\Triple_Three_Dashboard\\Exports\\stock_data.xlsx\", index=True)\n",
    "# Export stock data monthly\n",
    "ytd_long.to_excel(r\"C:\\Users\\Sebastian Kaiser\\Desktop\\FNI\\IG\\project_Dashboard\\Triple_Three_Dashboard\\Exports\\data_eom_stocks.xlsx\", index=False)"
   ]
  }
 ],
 "metadata": {
  "kernelspec": {
   "display_name": "Python 3",
   "language": "python",
   "name": "python3"
  },
  "language_info": {
   "codemirror_mode": {
    "name": "ipython",
    "version": 3
   },
   "file_extension": ".py",
   "mimetype": "text/x-python",
   "name": "python",
   "nbconvert_exporter": "python",
   "pygments_lexer": "ipython3",
   "version": "3.12.8"
  }
 },
 "nbformat": 4,
 "nbformat_minor": 2
}
